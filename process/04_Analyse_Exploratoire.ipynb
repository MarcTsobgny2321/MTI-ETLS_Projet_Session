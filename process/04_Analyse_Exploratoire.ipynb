{
 "cells": [
  {
   "cell_type": "markdown",
   "id": "dd41c55e",
   "metadata": {},
   "source": [
    "# Analyse exploratoire\n",
    "\n",
    "Ce notebook permet d'explorer les données de faits et de dimensions pour en vérifier la qualité et en extraire des statistiques descriptives."
   ]
  },
  {
   "cell_type": "code",
   "execution_count": 1,
   "id": "885f1df5",
   "metadata": {},
   "outputs": [
    {
     "data": {
      "application/vnd.microsoft.datawrangler.viewer.v0+json": {
       "columns": [
        {
         "name": "matiere",
         "rawType": "object",
         "type": "string"
        },
        {
         "name": "count",
         "rawType": "int64",
         "type": "integer"
        }
       ],
       "ref": "8a0ff920-b293-41b7-97fb-23db3c801c76",
       "rows": [
        [
         "Matières recyclables",
         "459"
        ],
        [
         "Matières organiques",
         "459"
        ],
        [
         "Résidus de construction, rénovation, démolition et encombrants",
         "459"
        ],
        [
         "Textiles",
         "459"
        ],
        [
         "Ordures ménagères éliminées",
         "459"
        ],
        [
         "Résidus de construction, rénovation, démolition et encombrants éliminés",
         "459"
        ],
        [
         "Résidus domestiques dangereux",
         "351"
        ],
        [
         "Autres (produits électroniques)",
         "351"
        ],
        [
         "Résidus domestiques dangereux et PE",
         "108"
        ]
       ],
       "shape": {
        "columns": 1,
        "rows": 9
       }
      },
      "text/plain": [
       "matiere\n",
       "Matières recyclables                                                       459\n",
       "Matières organiques                                                        459\n",
       "Résidus de construction, rénovation, démolition et encombrants             459\n",
       "Textiles                                                                   459\n",
       "Ordures ménagères éliminées                                                459\n",
       "Résidus de construction, rénovation, démolition et encombrants éliminés    459\n",
       "Résidus domestiques dangereux                                              351\n",
       "Autres (produits électroniques)                                            351\n",
       "Résidus domestiques dangereux et PE                                        108\n",
       "Name: count, dtype: int64"
      ]
     },
     "execution_count": 1,
     "metadata": {},
     "output_type": "execute_result"
    }
   ],
   "source": [
    "import pandas as pd\n",
    "source_dir = '../generated/'\n",
    "faits_matieres = pd.read_csv(f\"{source_dir}faits_matieres.csv\", sep=',', encoding='utf-8')\n",
    "\n",
    "# Statistiques descriptives\n",
    "faits_matieres.describe()\n",
    "\n",
    "# Répartition par type de matière\n",
    "faits_matieres['matiere'].value_counts()\n",
    "\n"
   ]
  },
  {
   "cell_type": "code",
   "execution_count": 2,
   "id": "fa8b8c59",
   "metadata": {},
   "outputs": [
    {
     "name": "stdout",
     "output_type": "stream",
     "text": [
      "Valeurs manquantes par colonne :\n",
      "annee                                  0\n",
      "matiere                                0\n",
      "territoire                             0\n",
      "quantite_generee_donnees_agglo      1913\n",
      "quantite_collectee_donnees_agglo       0\n",
      "taux_recuperation_donnees_agglo     1884\n",
      "ratio_recuperation_donnees_agglo     485\n",
      "quantite_generee_donnees_CMM        3245\n",
      "quantite_collectee_donnees_CMM      2744\n",
      "taux_recuperation_donnees_CMM       3214\n",
      "ratio_recuperation_donnees_CMM      2932\n",
      "latitude                              29\n",
      "longitude                             29\n",
      "dtype: int64\n",
      "\n",
      "Statistiques sur 'quantite_generee_donnees_agglo' :\n",
      "count     1651\n",
      "unique    1482\n",
      "top         16\n",
      "freq         7\n",
      "Name: quantite_generee_donnees_agglo, dtype: object\n",
      "\n",
      "Statistiques sur 'quantite_collectee_donnees_agglo' :\n",
      "count     3564\n",
      "unique    2131\n",
      "top          0\n",
      "freq       457\n",
      "Name: quantite_collectee_donnees_agglo, dtype: object\n",
      "\n",
      "Répartition par année :\n",
      "annee\n",
      "2012    280\n",
      "2013    280\n",
      "2014    280\n",
      "2015    280\n",
      "2016    280\n",
      "2017    280\n",
      "2018    280\n",
      "2019    280\n",
      "2020    280\n",
      "2021    288\n",
      "2022    252\n",
      "2023    252\n",
      "2024    252\n",
      "Name: count, dtype: int64\n",
      "\n",
      "Top 5 des types de matières :\n",
      "matiere\n",
      "Matières recyclables                                              459\n",
      "Matières organiques                                               459\n",
      "Résidus de construction, rénovation, démolition et encombrants    459\n",
      "Textiles                                                          459\n",
      "Ordures ménagères éliminées                                       459\n",
      "Name: count, dtype: int64\n",
      "\n",
      "Répartition géographique :\n",
      "territoire\n",
      "Agglomération de Montréal    101\n",
      "Ville de Montréal            101\n",
      "Ahuntsic-Cartierville        101\n",
      "Anjou                        101\n",
      "Baie-d'Urfé                  101\n",
      "Name: count, dtype: int64\n"
     ]
    }
   ],
   "source": [
    "# Nombre de valeurs manquantes par colonne\n",
    "print(\"Valeurs manquantes par colonne :\")\n",
    "print(faits_matieres.isnull().sum())\n",
    "\n",
    "# Statistiques sur la colonne 'quantite_generee_donnees_agglo'\n",
    "print(\"\\nStatistiques sur 'quantite_generee_donnees_agglo' :\")\n",
    "print(faits_matieres['quantite_generee_donnees_agglo'].describe())\n",
    "\n",
    "print(\"\\nStatistiques sur 'quantite_collectee_donnees_agglo' :\")\n",
    "print(faits_matieres['quantite_collectee_donnees_agglo'].describe())\n",
    "\n",
    "\n",
    "# Répartition des données par année ('annee')\n",
    "print(\"\\nRépartition par année :\")\n",
    "print(faits_matieres['annee'].value_counts().sort_index())\n",
    "\n",
    "# Top 5 des types de matières les plus fréquents\n",
    "print(\"\\nTop 5 des types de matières :\")\n",
    "print(faits_matieres['matiere'].value_counts().head())\n",
    "\n",
    "# # Top 5 des producteurs les plus fréquents\n",
    "# print(\"\\nTop 5 des producteurs :\")\n",
    "# print(faits_matieres['producteur'].value_counts().head())\n",
    "\n",
    "# Répartition géographique\n",
    "print(\"\\nRépartition géographique :\")\n",
    "print(faits_matieres['territoire'].value_counts().head())"
   ]
  }
 ],
 "metadata": {
  "kernelspec": {
   "display_name": "venv (3.12.3)",
   "language": "python",
   "name": "python3"
  },
  "language_info": {
   "codemirror_mode": {
    "name": "ipython",
    "version": 3
   },
   "file_extension": ".py",
   "mimetype": "text/x-python",
   "name": "python",
   "nbconvert_exporter": "python",
   "pygments_lexer": "ipython3",
   "version": "3.12.3"
  }
 },
 "nbformat": 4,
 "nbformat_minor": 5
}
