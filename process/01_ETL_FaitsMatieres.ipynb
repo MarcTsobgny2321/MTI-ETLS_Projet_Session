{
 "cells": [
  {
   "cell_type": "markdown",
   "id": "4e77178d",
   "metadata": {},
   "source": [
    "# ETL Faits_Matières\n",
    "\n",
    "Ce notebook extrait, transforme et charge les données de matières résiduelles dans la table de fait principale du projet BI."
   ]
  },
  {
   "cell_type": "code",
   "execution_count": 3,
   "id": "9fc6c8df",
   "metadata": {},
   "outputs": [],
   "source": [
    "import pandas as pd\n",
    "\n",
    "# Extraction des données\n",
    "faits = pd.read_csv('../dataset/Matieres_residuelles_recuperees.csv', sep=';')\n",
    "\n",
    "# Transformation : sélection et renommage des colonnes\n",
    "faits_matieres = faits[[\n",
    "    'PÉRIODE DE RÉFÉRENCE',\n",
    "    'GÉO',\n",
    "    'Type de matières récupérées',\n",
    "    'Sources des matières préparées en vue du recyclage',\n",
    "    'VALEUR'\n",
    "]].rename(columns={\n",
    "    'PÉRIODE DE RÉFÉRENCE': 'periode',\n",
    "    'GÉO': 'geo',\n",
    "    'Type de matières récupérées': 'type_matiere',\n",
    "    'Sources des matières préparées en vue du recyclage': 'producteur',\n",
    "    'VALEUR': 'volume_tonnes'\n",
    "})\n",
    "\n",
    "faits_matieres.head()\n",
    "\n",
    "# Sauvegarder le fichier pour l'analyse exploratoire\n",
    "faits_matieres.to_csv('../generated/faits_matieres.csv', index=False)"
   ]
  }
 ],
 "metadata": {
  "kernelspec": {
   "display_name": "venv (3.12.3)",
   "language": "python",
   "name": "python3"
  },
  "language_info": {
   "codemirror_mode": {
    "name": "ipython",
    "version": 3
   },
   "file_extension": ".py",
   "mimetype": "text/x-python",
   "name": "python",
   "nbconvert_exporter": "python",
   "pygments_lexer": "ipython3",
   "version": "3.12.3"
  }
 },
 "nbformat": 4,
 "nbformat_minor": 5
}
