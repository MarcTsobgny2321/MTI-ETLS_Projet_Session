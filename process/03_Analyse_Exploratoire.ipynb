{
 "cells": [
  {
   "cell_type": "markdown",
   "id": "dd41c55e",
   "metadata": {},
   "source": [
    "# Analyse exploratoire\n",
    "\n",
    "Ce notebook permet d'explorer les données de faits et de dimensions pour en vérifier la qualité et en extraire des statistiques descriptives."
   ]
  },
  {
   "cell_type": "code",
   "execution_count": 6,
   "id": "885f1df5",
   "metadata": {},
   "outputs": [
    {
     "data": {
      "application/vnd.microsoft.datawrangler.viewer.v0+json": {
       "columns": [
        {
         "name": "producteur",
         "rawType": "object",
         "type": "string"
        },
        {
         "name": "count",
         "rawType": "int64",
         "type": "integer"
        }
       ],
       "ref": "48458eea-9288-4576-aa5d-3388335efb64",
       "rows": [
        [
         "Toutes les sources des matières récupérées",
         "216"
        ],
        [
         "Sources des matières résidentielles récupérées",
         "216"
        ],
        [
         "Sources des matières non résidentielles récupérées",
         "216"
        ]
       ],
       "shape": {
        "columns": 1,
        "rows": 3
       }
      },
      "text/plain": [
       "producteur\n",
       "Toutes les sources des matières récupérées            216\n",
       "Sources des matières résidentielles récupérées        216\n",
       "Sources des matières non résidentielles récupérées    216\n",
       "Name: count, dtype: int64"
      ]
     },
     "execution_count": 6,
     "metadata": {},
     "output_type": "execute_result"
    }
   ],
   "source": [
    "import pandas as pd\n",
    "\n",
    "faits_matieres = pd.read_csv('../generated/faits_matieres.csv')\n",
    "\n",
    "# Statistiques descriptives\n",
    "faits_matieres.describe()\n",
    "\n",
    "# Répartition par type de matière\n",
    "faits_matieres['type_matiere'].value_counts()\n",
    "\n",
    "# Répartition par producteur\n",
    "faits_matieres['producteur'].value_counts()"
   ]
  },
  {
   "cell_type": "code",
   "execution_count": 7,
   "id": "fa8b8c59",
   "metadata": {},
   "outputs": [
    {
     "name": "stdout",
     "output_type": "stream",
     "text": [
      "Valeurs manquantes par colonne :\n",
      "periode            0\n",
      "geo                0\n",
      "type_matiere       0\n",
      "producteur         0\n",
      "volume_tonnes    266\n",
      "dtype: int64\n",
      "\n",
      "Statistiques sur 'volume_tonnes' :\n",
      "count    3.820000e+02\n",
      "mean     1.829548e+05\n",
      "std      6.572306e+05\n",
      "min      0.000000e+00\n",
      "25%      3.129000e+03\n",
      "50%      2.218600e+04\n",
      "75%      9.147325e+04\n",
      "max      9.898882e+06\n",
      "Name: volume_tonnes, dtype: float64\n",
      "\n",
      "Répartition par année :\n",
      "periode\n",
      "2022    648\n",
      "Name: count, dtype: int64\n",
      "\n",
      "Top 5 des types de matières :\n",
      "type_matiere\n",
      "Toutes les matières            36\n",
      "Toutes les fibres de papier    36\n",
      "Verre                          36\n",
      "Métaux ferreux                 36\n",
      "Cuivre et aluminium            36\n",
      "Name: count, dtype: int64\n",
      "\n",
      "Top 5 des producteurs :\n",
      "producteur\n",
      "Toutes les sources des matières récupérées            216\n",
      "Sources des matières résidentielles récupérées        216\n",
      "Sources des matières non résidentielles récupérées    216\n",
      "Name: count, dtype: int64\n",
      "\n",
      "Répartition géographique :\n",
      "geo\n",
      "Canada                     54\n",
      "Terre-Neuve-et-Labrador    54\n",
      "Île-du-Prince-Édouard      54\n",
      "Nouvelle-Écosse            54\n",
      "Nouveau-Brunswick          54\n",
      "Name: count, dtype: int64\n"
     ]
    }
   ],
   "source": [
    "# Nombre de valeurs manquantes par colonne\n",
    "print(\"Valeurs manquantes par colonne :\")\n",
    "print(faits_matieres.isnull().sum())\n",
    "\n",
    "# Statistiques sur la colonne 'volume_tonnes'\n",
    "print(\"\\nStatistiques sur 'volume_tonnes' :\")\n",
    "print(faits_matieres['volume_tonnes'].describe())\n",
    "\n",
    "# Répartition des données par année ('periode')\n",
    "print(\"\\nRépartition par année :\")\n",
    "print(faits_matieres['periode'].value_counts().sort_index())\n",
    "\n",
    "# Top 5 des types de matières les plus fréquents\n",
    "print(\"\\nTop 5 des types de matières :\")\n",
    "print(faits_matieres['type_matiere'].value_counts().head())\n",
    "\n",
    "# Top 5 des producteurs les plus fréquents\n",
    "print(\"\\nTop 5 des producteurs :\")\n",
    "print(faits_matieres['producteur'].value_counts().head())\n",
    "\n",
    "# Répartition géographique\n",
    "print(\"\\nRépartition géographique :\")\n",
    "print(faits_matieres['geo'].value_counts().head())"
   ]
  }
 ],
 "metadata": {
  "kernelspec": {
   "display_name": "venv (3.12.3)",
   "language": "python",
   "name": "python3"
  },
  "language_info": {
   "codemirror_mode": {
    "name": "ipython",
    "version": 3
   },
   "file_extension": ".py",
   "mimetype": "text/x-python",
   "name": "python",
   "nbconvert_exporter": "python",
   "pygments_lexer": "ipython3",
   "version": "3.12.3"
  }
 },
 "nbformat": 4,
 "nbformat_minor": 5
}
