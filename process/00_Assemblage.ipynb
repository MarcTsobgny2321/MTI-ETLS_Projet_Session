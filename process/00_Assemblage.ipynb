{
 "cells": [
  {
   "cell_type": "code",
   "execution_count": null,
   "id": "44752201",
   "metadata": {},
   "outputs": [],
   "source": [
    "# Dictionnaire des URLs de données géospatiales pour chaque ville\n",
    "data_sources = {\n",
    "    \"Montreal\": [\n",
    "        \"https://montreal-prod.storage.googleapis.com/resources/5f3fb372-64e8-45f2-a406-f1614930305c/collecte-des-ordures-menageres.geojson?X-Goog-Algorithm=GOOG4-RSA-SHA256&X-Goog-Credential=test-datapusher-delete%40amplus-data.iam.gserviceaccount.com%2F20250723%2Fauto%2Fstorage%2Fgoog4_request&X-Goog-Date=20250723T003005Z&X-Goog-Expires=604800&X-Goog-SignedHeaders=host&x-goog-signature=89140d6e57af40e4cefc98df95416f6665bcbc0a0e042022fe5985ae04ddca352dbeaa21c2f9167bfdb70af6689c51ddaeb44c22341f81a53d25a28e43a948debff150ad560c14a5ce69da73d6111dd3fb76423f208b5967275732757ed9637251379389506e8052c99e16460b6a64e9830a2c8eea52b59581bf6b1e476be905be6d7ea05f013211888c01335fe052a34f09062cf16fbdea34f4282ec9eaa3f0e8a8ece082668822edc069a8a96cfbe8e407c675717be0449370a4040207a2476ec504136e837b0b14d307d4e6c60525a689498ec6c9b9a829e04fe16fa9662764f0c63828e00853df29cb8cf64cc28c5a73cf887309c71ba95c95e49b5e7567\"\n",
    "        # Ajoutez d'autres URLs si besoin\n",
    "    ],\n",
    "    \"Quebec\": {\n",
    "        \"residuelles_recuperees\" : \"https://quebec-prod.storage.googleapis.com/resources/5f3fb372-64e8-45f2-a406-f1614930305c/collecte-des-ordures-menageres.geojson?X-Goog-Algorithm=GOOG4-RSA-SHA256&X-Goog-Credential=test-datapusher-delete%40amplus-data.iam.gserviceaccount.com%2F20250723%2Fauto%2Fstorage%2Fgoog4_request&X-Goog-Date=20250723T003005Z&X-Goog-Expires=604800&X-Goog-SignedHeaders=host&x-goog-signature=89140d6e57af40e4cefc98df95416f6665bcbc0a0e042022fe5985ae04ddca352dbeaa21c2f9167bfdb70af6689c51ddaeb44c22341f81a53d25a28e43a948debff150ad560c14a5ce69da73d6111dd3fb76423f208b5967275732757ed9637251379389506e8052c99e16460b6a64e9830a2c8eea52b59581bf6b1e476be905be6d7ea05f013211888c01335fe052a34f09062cf16fbdea34f4282ec9eaa3f0e8a8ece082668822edc069a8a96cfbe8e407c675717be0449370a4040207a2476ec504136e837b0b14d307d4e6c60525a689498ec6c9b9a829e04fe16fa9662764f0c63828e00853df29cb8cf64cc28c5a73cf887309c71ba95c95e49b5e7567\",\n",
    "        \"centres_de_tri_CRD\" : \"https://quebec-prod.storage.googleapis.com/resources/5f3fb372-64e8-45f2-a406-f1614930305c/centres-de-tri-crd.geojson?X-Goog-Algorithm=GOOG4-RSA-SHA256&X-Goog-Credential=test-datapusher-delete%40amplus-data.iam.gserviceaccount.com%2F20250723%2Fauto%2Fstorage%2Fgoog4_request&X-Goog-Date=20250723T003005Z&X-Goog-Expires=604800&X-Goog-SignedHeaders=host&x-goog-signature=89140d6e57af40e4cefc98df95416f6665bcbc0a0e042022fe5985ae04ddca352dbeaa21c2f9167bfdb70af6689c51ddaeb44c22341f81a53d25a28e43a948debff150ad560c14a5ce69da73d6111dd3fb76423f208b5967275732757ed9637251379389506e8052c99e16460b6a64e9830a2c8eea52b59581bf6b1e476be905be6d7ea05f013211888c01335fe052a34f09062cf16fbdea34f4282ec9eaa3f0e8a8ece082668822edc069a8a96cfbe8e407c675717be0449370a4040207a2476ec504136e837b0b14d307d4e6c60525a689498ec6c9b9a829e04fe16fa9662764f0c63828e00853df29cb8cf64cc28c5a73cf887309c71ba95c95e49b5e7567\"\n",
    "    }\n",
    "}\n"
   ]
  },
  {
   "cell_type": "code",
   "execution_count": 45,
   "id": "254a85da",
   "metadata": {},
   "outputs": [
    {
     "name": "stdout",
     "output_type": "stream",
     "text": [
      "Fichier téléchargé et enregistré sous ../dataset/collecte.json\n"
     ]
    }
   ],
   "source": [
    "import requests\n",
    "import os\n",
    "# Fonction pour obtenir l'URL de données par ville\n",
    "def get_url_by_city(city):\n",
    "    return data_sources.get(city, [None])[0]\n",
    "\n",
    "city = \"Montreal\"\n",
    "url = get_url_by_city(city)\n",
    "output_path = f\"../dataset/collecte.json\"\n",
    "os.makedirs(os.path.dirname(output_path), exist_ok=True)\n",
    "\n",
    "if url:\n",
    "    response = requests.get(url)\n",
    "    if response.status_code == 200:\n",
    "        with open(output_path, \"wb\") as f:\n",
    "            f.write(response.content)\n",
    "        print(f\"Fichier téléchargé et enregistré sous {output_path}\")\n",
    "    else:\n",
    "        print(f\"Erreur lors du téléchargement : {response.status_code}\")\n",
    "else:\n",
    "    print(f\"Aucune URL trouvée pour la ville {city}\")"
   ]
  },
  {
   "cell_type": "code",
   "execution_count": 46,
   "id": "5ccbfb5a",
   "metadata": {},
   "outputs": [
    {
     "name": "stdout",
     "output_type": "stream",
     "text": [
      "Fichier modifié enregistré sous ../dataset/collecte.json\n"
     ]
    }
   ],
   "source": [
    "import json\n",
    "input_path = '../dataset/collecte.json'\n",
    "output_path = '../dataset/collecte.json'\n",
    "\n",
    "with open(input_path, 'r', encoding='utf-8') as f:\n",
    "    data = json.load(f)\n",
    "\n",
    "for feature in data.get('features', []):\n",
    "    props = feature.get('properties', {})\n",
    "    if props.get('MUNICIPALITE') == 'Montreal':\n",
    "        props['PROVINCE'] = 'Québec'\n",
    "\n",
    "with open(output_path, 'w', encoding='utf-8') as f:\n",
    "    json.dump(data, f, ensure_ascii=False, indent=2)\n",
    "print(f\"Fichier modifié enregistré sous {output_path}\")"
   ]
  },
  {
   "cell_type": "code",
   "execution_count": 47,
   "id": "41682451",
   "metadata": {},
   "outputs": [
    {
     "name": "stdout",
     "output_type": "stream",
     "text": [
      "CSV téléchargé et enregistré sous ../dataset/Matieres_residuelles_recuperees.csv\n"
     ]
    }
   ],
   "source": [
    "# Télécharger le CSV des matières résiduelles récupérées et l'enregistrer localement\n",
    "csv_url = \"https://www150.statcan.gc.ca/t1/tbl1/fr/dtl!downloadDbLoadingData-nonTraduit.action?pid=3810013801&latestN=0&startDate=20180101&endDate=20220101&csvLocale=fr&selectedMembers=%5B%5B%5D%2C%5B%5D%2C%5B%5D%5D&checkedLevels=0D1%2C0D2%2C1D1%2C1D2%2C1D3%2C2D1%2C2D2\"\n",
    "csv_output_path = \"../dataset/Matieres_residuelles_recuperees.csv\"\n",
    "os.makedirs(os.path.dirname(csv_output_path), exist_ok=True)\n",
    "\n",
    "csv_response = requests.get(csv_url)\n",
    "if csv_response.status_code == 200:\n",
    "    with open(csv_output_path, \"wb\") as f:\n",
    "        f.write(csv_response.content)\n",
    "    print(f\"CSV téléchargé et enregistré sous {csv_output_path}\")\n",
    "else:\n",
    "    print(f\"Erreur lors du téléchargement du CSV : {csv_response.status_code}\")"
   ]
  },
  {
   "cell_type": "code",
   "execution_count": 48,
   "id": "c2e9e593",
   "metadata": {},
   "outputs": [
    {
     "name": "stdout",
     "output_type": "stream",
     "text": [
      "Fichier Excel téléchargé et enregistré sous ../dataset/liste-centres-tri-crd.xlsx\n",
      "Fichier converti et enregistré sous ../dataset/liste-centres-tri-crd.csv\n",
      "Fichier Excel supprimé : ../dataset/liste-centres-tri-crd.xlsx\n"
     ]
    }
   ],
   "source": [
    "# Télécharger le fichier Excel des centres de tri CRD et le convertir en CSV (en prenant la bonne ligne d'en-tête), puis supprimer le fichier Excel\n",
    "import pandas as pd\n",
    "\n",
    "excel_url = \"https://www.recyc-quebec.gouv.qc.ca/sites/default/files/documents/liste-centres-tri-crd.xlsx\"\n",
    "excel_output_path = \"../dataset/liste-centres-tri-crd.xlsx\"\n",
    "csv_output_path = \"../dataset/liste-centres-tri-crd.csv\"\n",
    "\n",
    "os.makedirs(os.path.dirname(excel_output_path), exist_ok=True)\n",
    "\n",
    "excel_response = requests.get(excel_url)\n",
    "if excel_response.status_code == 200:\n",
    "    with open(excel_output_path, \"wb\") as f:\n",
    "        f.write(excel_response.content)\n",
    "    print(f\"Fichier Excel téléchargé et enregistré sous {excel_output_path}\")\n",
    "    # Charger le fichier Excel et détecter la ligne d'en-tête\n",
    "    try:\n",
    "        # Charger toutes les lignes pour détecter l'en-tête\n",
    "        df_raw = pd.read_excel(excel_output_path, header=None)\n",
    "        header_row = None\n",
    "        for i, row in df_raw.iterrows():\n",
    "            if any(str(cell).strip() == \"Région administrative\" for cell in row):\n",
    "                header_row = i\n",
    "                break\n",
    "        if header_row is not None:\n",
    "            df = pd.read_excel(excel_output_path, header=header_row)\n",
    "            df.to_csv(csv_output_path, index=False)\n",
    "            print(f\"Fichier converti et enregistré sous {csv_output_path}\")\n",
    "            # Supprimer le fichier Excel après conversion\n",
    "            try:\n",
    "                os.remove(excel_output_path)\n",
    "                print(f\"Fichier Excel supprimé : {excel_output_path}\")\n",
    "            except Exception as e:\n",
    "                print(f\"Erreur lors de la suppression du fichier Excel : {e}\")\n",
    "        else:\n",
    "            print(\"Impossible de trouver la ligne d'en-tête contenant 'Région administrative'.\")\n",
    "    except Exception as e:\n",
    "        print(f\"Erreur lors de la conversion Excel -> CSV : {e}\")\n",
    "else:\n",
    "    print(f\"Erreur lors du téléchargement du fichier Excel : {excel_response.status_code}\")"
   ]
  }
 ],
 "metadata": {
  "kernelspec": {
   "display_name": "venv (3.12.3)",
   "language": "python",
   "name": "python3"
  },
  "language_info": {
   "codemirror_mode": {
    "name": "ipython",
    "version": 3
   },
   "file_extension": ".py",
   "mimetype": "text/x-python",
   "name": "python",
   "nbconvert_exporter": "python",
   "pygments_lexer": "ipython3",
   "version": "3.12.3"
  }
 },
 "nbformat": 4,
 "nbformat_minor": 5
}
