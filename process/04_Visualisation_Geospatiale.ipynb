{
 "cells": [
  {
   "cell_type": "code",
   "execution_count": 26,
   "id": "9594eb5f",
   "metadata": {},
   "outputs": [],
   "source": [
    "# 1. Importer les bibliothèques nécessaires\n",
    "import pandas as pd\n",
    "import json\n",
    "import folium\n",
    "from shapely.geometry import Polygon"
   ]
  },
  {
   "cell_type": "code",
   "execution_count": null,
   "id": "2d3f0c4c",
   "metadata": {},
   "outputs": [
    {
     "name": "stdout",
     "output_type": "stream",
     "text": [
      "Carte interactive générée avec markers : collecte_secteurs.html\n"
     ]
    }
   ],
   "source": [
    "# 2. Charger les données tabulaires et géospatiales\n",
    "faits = pd.read_csv('../dataset/generated/faits_matieres.csv')\n",
    "dim_type_matiere = pd.read_csv('../dataset/generated/dim_type_matiere.csv')\n",
    "dim_producteur = pd.read_csv('../dataset/generated/dim_producteur.csv')\n",
    "dim_temps = pd.read_csv('../dataset/generated/dim_temps.csv')\n",
    "dim_site_valorisation = pd.read_csv('../dataset/generated/dim_site_valorisation.csv')\n",
    "\n",
    "geojson_path = \"../dataset/collecte.json\"\n",
    "with open(geojson_path, \"r\") as f:\n",
    "    geo_data = json.load(f)\n",
    "\n",
    "features = geo_data['features']\n",
    "geo_df = pd.json_normalize(features)\n",
    "geo_df = geo_df[['properties.PROVINCE', 'properties.JOUR', 'geometry.type', 'geometry.coordinates']]\n",
    "geo_df.head()\n",
    "\n",
    "# 3. Fusionner les données sur le secteur\n",
    "faits_geo = faits.merge(geo_df, left_on='geo', right_on='properties.PROVINCE', how='left')\n",
    "# faits_geo.head(500)\n",
    "\n",
    "# 4. Visualiser la carte interactive\n",
    "m = folium.Map(location=[45.5017, -73.5673], zoom_start=11)\n",
    "for _, row in geo_df.iterrows():\n",
    "    if row['geometry.type'] == 'Polygon':\n",
    "        folium.Polygon(\n",
    "            locations=[(lat, lon) for lon, lat in row['geometry.coordinates'][0]],\n",
    "            color='blue',\n",
    "            fill=True,\n",
    "            fill_opacity=0.2,\n",
    "            popup=row['properties.PROVINCE']\n",
    "        ).add_to(m)\n",
    "# Ajouter un marker pour chaque fait (si coordonnées disponibles)\n",
    "for _, row in faits_geo.iterrows():\n",
    "    if row['geometry.type'] == 'Polygon' and isinstance(row['geometry.coordinates'], list):\n",
    "        # print(row['geo'], row['type_matiere'], row['volume_tonnes'])\n",
    "\n",
    "        # Extraire tous les points du polygone\n",
    "        coords = row['geometry.coordinates'][0]\n",
    "        # Créer le polygone et calculer le centroïde\n",
    "        poly = Polygon([(lon, lat) for lon, lat in coords])\n",
    "        centroid = poly.centroid\n",
    "        folium.Marker(\n",
    "            location=[centroid.y, centroid.x],\n",
    "            popup=f\"{row['type_matiere']} ({row['volume_tonnes']} t) - {row['geo']}\",\n",
    "            icon=folium.Icon(color='red', icon='home')\n",
    "        ).add_to(m)\n",
    "m.save(\"../dataset/generated/collecte_secteurs.html\")\n",
    "print(\"Carte interactive générée avec markers : collecte_secteurs.html\")\n"
   ]
  }
 ],
 "metadata": {
  "kernelspec": {
   "display_name": "venv (3.12.3)",
   "language": "python",
   "name": "python3"
  },
  "language_info": {
   "codemirror_mode": {
    "name": "ipython",
    "version": 3
   },
   "file_extension": ".py",
   "mimetype": "text/x-python",
   "name": "python",
   "nbconvert_exporter": "python",
   "pygments_lexer": "ipython3",
   "version": "3.12.3"
  }
 },
 "nbformat": 4,
 "nbformat_minor": 5
}
