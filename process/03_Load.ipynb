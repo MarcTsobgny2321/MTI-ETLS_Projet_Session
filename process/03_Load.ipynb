{
 "cells": [
  {
   "cell_type": "markdown",
   "id": "4e77178d",
   "metadata": {},
   "source": [
    "# ETL Faits_Matières\n",
    "\n",
    "Ce notebook extrait, transforme et charge les données de matières résiduelles dans la table de fait principale du projet BI."
   ]
  },
  {
   "cell_type": "code",
   "execution_count": null,
   "id": "84b7622c",
   "metadata": {},
   "outputs": [],
   "source": [
    "import pandas as pd\n",
    "import os\n",
    "os.makedirs('../generated', exist_ok=True)\n",
    "source_dir = '../generated/normalized/'"
   ]
  },
  {
   "cell_type": "code",
   "execution_count": null,
   "id": "9fc6c8df",
   "metadata": {},
   "outputs": [],
   "source": [
    "\n",
    "\n",
    "\n",
    "# # Extraction des données\n",
    "# faits = pd.read_csv(f\"{source_dir}matieres_residuelles_quebec.csv\", sep=',', encoding='utf-8')\n",
    "\n",
    "# # Transformation : sélection et renommage des colonnes\n",
    "# faits_matieres = faits[[\n",
    "#     'PÉRIODE DE RÉFÉRENCE',\n",
    "#     'GÉO',\n",
    "#     'Type de matières récupérées',\n",
    "#     'Sources des matières préparées en vue du recyclage',\n",
    "#     'VALEUR'\n",
    "# ]].rename(columns={\n",
    "#     'PÉRIODE DE RÉFÉRENCE': 'periode',\n",
    "#     'GÉO': 'geo',\n",
    "#     'Type de matières récupérées': 'type_matiere',\n",
    "#     'Sources des matières préparées en vue du recyclage': 'producteur',\n",
    "#     'VALEUR': 'volume_tonnes'\n",
    "# })\n",
    "\n",
    "# faits_matieres.head()\n",
    "\n",
    "# # Sauvegarder le fichier pour l'analyse exploratoire\n",
    "# faits_matieres.to_csv('../generated/faits_matieres.csv', index=False)"
   ]
  },
  {
   "cell_type": "code",
   "execution_count": null,
   "id": "3ce7eca9",
   "metadata": {},
   "outputs": [],
   "source": [
    "# Extraction des données massiques (fait_massique)\n",
    "faits_matieres = pd.read_csv(f\"{source_dir}matieres_residuelles_massique.csv\", sep=',', encoding='utf-8')\n",
    "\n",
    "\n",
    "# Affichage des premières lignes pour vérification\n",
    "display(faits_matieres.head())\n",
    "\n",
    "# Sauvegarder le fichier pour l'analyse exploratoire (optionnel)\n",
    "faits_matieres.to_csv('../generated/faits_matieres.csv', index=False)"
   ]
  },
  {
   "cell_type": "code",
   "execution_count": null,
   "id": "dad10669",
   "metadata": {},
   "outputs": [],
   "source": [
    "\n",
    "faits = pd.read_csv(f\"{source_dir}matieres_residuelles_massique.csv\", sep=',', encoding='utf-8')\n",
    "\n",
    "sites = pd.read_csv(f\"{source_dir}liste-centres-tri-crd.csv\" , sep=',', encoding='utf-8')\n",
    "\n",
    "# Dimension TypeMatiere\n",
    "dim_type_matiere = pd.DataFrame({'type_matiere': faits['matiere'].unique()})\n",
    "# Dimension Producteur\n",
    "dim_producteur = pd.DataFrame({'producteur': faits['territoire'].unique()})\n",
    "\n",
    "# Dimension Temps\n",
    "dim_temps = pd.DataFrame({'periode': faits['annee'].unique()})\n",
    "\n",
    "# Dimension SiteValorisation\n",
    "dim_site_valorisation = sites.drop_duplicates().reset_index(drop=True)\n",
    "\n",
    "print(\"Dimension TypeMatiere\")\n",
    "display(dim_type_matiere.head())\n",
    "\n",
    "print(\"\\nDimension Producteur\")\n",
    "display(dim_producteur.head())\n",
    "\n",
    "print(\"\\nDimension Temps\")\n",
    "display(dim_temps.head())\n",
    "\n",
    "print(\"\\nDimension SiteValorisation\")\n",
    "display(dim_site_valorisation.head())\n",
    "\n",
    "\n"
   ]
  },
  {
   "cell_type": "code",
   "execution_count": null,
   "id": "5f2779ad",
   "metadata": {},
   "outputs": [],
   "source": [
    "# Persistance des dimensions en CSV\n",
    "dim_type_matiere.to_csv('../generated/dim_type_matiere.csv', index=False)\n",
    "dim_producteur.to_csv('../generated/dim_producteur.csv', index=False)\n",
    "dim_temps.to_csv('../generated/dim_temps.csv', index=False)\n",
    "dim_site_valorisation.to_csv('../generated/dim_site_valorisation.csv', index=False)\n",
    "print(\"Dimensions sauvegardées dans des fichiers CSV à la racine du projet.\")"
   ]
  }
 ],
 "metadata": {
  "kernelspec": {
   "display_name": "venv (3.12.3)",
   "language": "python",
   "name": "python3"
  },
  "language_info": {
   "codemirror_mode": {
    "name": "ipython",
    "version": 3
   },
   "file_extension": ".py",
   "mimetype": "text/x-python",
   "name": "python",
   "nbconvert_exporter": "python",
   "pygments_lexer": "ipython3",
   "version": "3.12.3"
  }
 },
 "nbformat": 4,
 "nbformat_minor": 5
}
