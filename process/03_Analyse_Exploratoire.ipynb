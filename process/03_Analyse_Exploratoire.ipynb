{
 "cells": [
  {
   "cell_type": "markdown",
   "id": "dd41c55e",
   "metadata": {},
   "source": [
    "# Analyse exploratoire\n",
    "\n",
    "Ce notebook permet d'explorer les données de faits et de dimensions pour en vérifier la qualité et en extraire des statistiques descriptives."
   ]
  },
  {
   "cell_type": "code",
   "execution_count": 1,
   "id": "885f1df5",
   "metadata": {},
   "outputs": [
    {
     "data": {
      "application/vnd.microsoft.datawrangler.viewer.v0+json": {
       "columns": [
        {
         "name": "producteur",
         "rawType": "object",
         "type": "string"
        },
        {
         "name": "count",
         "rawType": "int64",
         "type": "integer"
        }
       ],
       "ref": "25102d71-5498-44a7-b63d-46a78d2316e5",
       "rows": [
        [
         "Toutes les sources des matières récupérées",
         "648"
        ],
        [
         "Sources des matières résidentielles récupérées",
         "648"
        ],
        [
         "Sources des matières non résidentielles récupérées",
         "648"
        ]
       ],
       "shape": {
        "columns": 1,
        "rows": 3
       }
      },
      "text/plain": [
       "producteur\n",
       "Toutes les sources des matières récupérées            648\n",
       "Sources des matières résidentielles récupérées        648\n",
       "Sources des matières non résidentielles récupérées    648\n",
       "Name: count, dtype: int64"
      ]
     },
     "execution_count": 1,
     "metadata": {},
     "output_type": "execute_result"
    }
   ],
   "source": [
    "import pandas as pd\n",
    "\n",
    "faits_matieres = pd.read_csv('../dataset/generated/faits_matieres.csv')\n",
    "\n",
    "# Statistiques descriptives\n",
    "faits_matieres.describe()\n",
    "\n",
    "# Répartition par type de matière\n",
    "faits_matieres['type_matiere'].value_counts()\n",
    "\n",
    "# Répartition par producteur\n",
    "faits_matieres['producteur'].value_counts()"
   ]
  }
 ],
 "metadata": {
  "kernelspec": {
   "display_name": "venv (3.12.3)",
   "language": "python",
   "name": "python3"
  },
  "language_info": {
   "codemirror_mode": {
    "name": "ipython",
    "version": 3
   },
   "file_extension": ".py",
   "mimetype": "text/x-python",
   "name": "python",
   "nbconvert_exporter": "python",
   "pygments_lexer": "ipython3",
   "version": "3.12.3"
  }
 },
 "nbformat": 4,
 "nbformat_minor": 5
}
