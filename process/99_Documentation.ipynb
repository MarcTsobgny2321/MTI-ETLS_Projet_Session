{
 "cells": [
  {
   "cell_type": "markdown",
   "id": "df043509",
   "metadata": {},
   "source": [
    "# Documentation du projet BI – Économie Circulaire\n",
    "\n",
    "Ce projet est structuré autour de plusieurs notebooks :\n",
    "\n",
    "- **01_ETL_FaitsMatieres.ipynb** : Extraction et transformation des données de faits\n",
    "- **02_ETL_Dimensions.ipynb** : Création et enrichissement des dimensions\n",
    "- **03_Analyse_Exploratoire.ipynb** : Analyse descriptive et contrôle qualité\n",
    "- **05_Tableaux_de_Bord.ipynb** : Visualisations et indicateurs de performance\n",
    "- **99_Documentation.ipynb** : Explications, schémas, guide d’utilisation\n",
    "\n",
    "Les données sources sont dans le dossier `dataset/`. Les résultats intermédiaires sont sauvegardés au format CSV pour faciliter la réutilisation et la traçabilité."
   ]
  }
 ],
 "metadata": {
  "language_info": {
   "name": "python"
  }
 },
 "nbformat": 4,
 "nbformat_minor": 5
}
