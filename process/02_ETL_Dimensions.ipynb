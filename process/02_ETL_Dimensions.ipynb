{
 "cells": [
  {
   "cell_type": "markdown",
   "id": "f0d52420",
   "metadata": {},
   "source": [
    "# ETL Dimensions\n",
    "\n",
    "Ce notebook extrait et structure les dimensions du projet BI à partir des jeux de données sources."
   ]
  },
  {
   "cell_type": "code",
   "execution_count": 2,
   "id": "68c7c43d",
   "metadata": {},
   "outputs": [
    {
     "name": "stdout",
     "output_type": "stream",
     "text": [
      "Dimension TypeMatiere\n"
     ]
    },
    {
     "data": {
      "application/vnd.microsoft.datawrangler.viewer.v0+json": {
       "columns": [
        {
         "name": "index",
         "rawType": "int64",
         "type": "integer"
        },
        {
         "name": "type_matiere",
         "rawType": "object",
         "type": "string"
        }
       ],
       "ref": "96b55d73-65c0-4162-850a-bf372b746492",
       "rows": [
        [
         "0",
         "Toutes les matières"
        ],
        [
         "1",
         "Toutes les fibres de papier"
        ],
        [
         "2",
         "Verre"
        ],
        [
         "3",
         "Métaux ferreux"
        ],
        [
         "4",
         "Cuivre et aluminium"
        ]
       ],
       "shape": {
        "columns": 1,
        "rows": 5
       }
      },
      "text/html": [
       "<div>\n",
       "<style scoped>\n",
       "    .dataframe tbody tr th:only-of-type {\n",
       "        vertical-align: middle;\n",
       "    }\n",
       "\n",
       "    .dataframe tbody tr th {\n",
       "        vertical-align: top;\n",
       "    }\n",
       "\n",
       "    .dataframe thead th {\n",
       "        text-align: right;\n",
       "    }\n",
       "</style>\n",
       "<table border=\"1\" class=\"dataframe\">\n",
       "  <thead>\n",
       "    <tr style=\"text-align: right;\">\n",
       "      <th></th>\n",
       "      <th>type_matiere</th>\n",
       "    </tr>\n",
       "  </thead>\n",
       "  <tbody>\n",
       "    <tr>\n",
       "      <th>0</th>\n",
       "      <td>Toutes les matières</td>\n",
       "    </tr>\n",
       "    <tr>\n",
       "      <th>1</th>\n",
       "      <td>Toutes les fibres de papier</td>\n",
       "    </tr>\n",
       "    <tr>\n",
       "      <th>2</th>\n",
       "      <td>Verre</td>\n",
       "    </tr>\n",
       "    <tr>\n",
       "      <th>3</th>\n",
       "      <td>Métaux ferreux</td>\n",
       "    </tr>\n",
       "    <tr>\n",
       "      <th>4</th>\n",
       "      <td>Cuivre et aluminium</td>\n",
       "    </tr>\n",
       "  </tbody>\n",
       "</table>\n",
       "</div>"
      ],
      "text/plain": [
       "                  type_matiere\n",
       "0          Toutes les matières\n",
       "1  Toutes les fibres de papier\n",
       "2                        Verre\n",
       "3               Métaux ferreux\n",
       "4          Cuivre et aluminium"
      ]
     },
     "metadata": {},
     "output_type": "display_data"
    },
    {
     "name": "stdout",
     "output_type": "stream",
     "text": [
      "\n",
      "Dimension Producteur\n"
     ]
    },
    {
     "data": {
      "application/vnd.microsoft.datawrangler.viewer.v0+json": {
       "columns": [
        {
         "name": "index",
         "rawType": "int64",
         "type": "integer"
        },
        {
         "name": "producteur",
         "rawType": "object",
         "type": "string"
        }
       ],
       "ref": "6446d785-292b-4428-805e-96b4157ddbb5",
       "rows": [
        [
         "0",
         "Toutes les sources des matières récupérées"
        ],
        [
         "1",
         "Sources des matières résidentielles récupérées"
        ],
        [
         "2",
         "Sources des matières non résidentielles récupérées"
        ]
       ],
       "shape": {
        "columns": 1,
        "rows": 3
       }
      },
      "text/html": [
       "<div>\n",
       "<style scoped>\n",
       "    .dataframe tbody tr th:only-of-type {\n",
       "        vertical-align: middle;\n",
       "    }\n",
       "\n",
       "    .dataframe tbody tr th {\n",
       "        vertical-align: top;\n",
       "    }\n",
       "\n",
       "    .dataframe thead th {\n",
       "        text-align: right;\n",
       "    }\n",
       "</style>\n",
       "<table border=\"1\" class=\"dataframe\">\n",
       "  <thead>\n",
       "    <tr style=\"text-align: right;\">\n",
       "      <th></th>\n",
       "      <th>producteur</th>\n",
       "    </tr>\n",
       "  </thead>\n",
       "  <tbody>\n",
       "    <tr>\n",
       "      <th>0</th>\n",
       "      <td>Toutes les sources des matières récupérées</td>\n",
       "    </tr>\n",
       "    <tr>\n",
       "      <th>1</th>\n",
       "      <td>Sources des matières résidentielles récupérées</td>\n",
       "    </tr>\n",
       "    <tr>\n",
       "      <th>2</th>\n",
       "      <td>Sources des matières non résidentielles récupé...</td>\n",
       "    </tr>\n",
       "  </tbody>\n",
       "</table>\n",
       "</div>"
      ],
      "text/plain": [
       "                                          producteur\n",
       "0         Toutes les sources des matières récupérées\n",
       "1     Sources des matières résidentielles récupérées\n",
       "2  Sources des matières non résidentielles récupé..."
      ]
     },
     "metadata": {},
     "output_type": "display_data"
    },
    {
     "name": "stdout",
     "output_type": "stream",
     "text": [
      "\n",
      "Dimension Temps\n"
     ]
    },
    {
     "data": {
      "application/vnd.microsoft.datawrangler.viewer.v0+json": {
       "columns": [
        {
         "name": "index",
         "rawType": "int64",
         "type": "integer"
        },
        {
         "name": "periode",
         "rawType": "int64",
         "type": "integer"
        }
       ],
       "ref": "33f91b5c-5223-46d1-af40-4f556a3e6522",
       "rows": [
        [
         "0",
         "2018"
        ],
        [
         "1",
         "2020"
        ],
        [
         "2",
         "2022"
        ]
       ],
       "shape": {
        "columns": 1,
        "rows": 3
       }
      },
      "text/html": [
       "<div>\n",
       "<style scoped>\n",
       "    .dataframe tbody tr th:only-of-type {\n",
       "        vertical-align: middle;\n",
       "    }\n",
       "\n",
       "    .dataframe tbody tr th {\n",
       "        vertical-align: top;\n",
       "    }\n",
       "\n",
       "    .dataframe thead th {\n",
       "        text-align: right;\n",
       "    }\n",
       "</style>\n",
       "<table border=\"1\" class=\"dataframe\">\n",
       "  <thead>\n",
       "    <tr style=\"text-align: right;\">\n",
       "      <th></th>\n",
       "      <th>periode</th>\n",
       "    </tr>\n",
       "  </thead>\n",
       "  <tbody>\n",
       "    <tr>\n",
       "      <th>0</th>\n",
       "      <td>2018</td>\n",
       "    </tr>\n",
       "    <tr>\n",
       "      <th>1</th>\n",
       "      <td>2020</td>\n",
       "    </tr>\n",
       "    <tr>\n",
       "      <th>2</th>\n",
       "      <td>2022</td>\n",
       "    </tr>\n",
       "  </tbody>\n",
       "</table>\n",
       "</div>"
      ],
      "text/plain": [
       "   periode\n",
       "0     2018\n",
       "1     2020\n",
       "2     2022"
      ]
     },
     "metadata": {},
     "output_type": "display_data"
    },
    {
     "name": "stdout",
     "output_type": "stream",
     "text": [
      "\n",
      "Dimension SiteValorisation\n"
     ]
    },
    {
     "data": {
      "application/vnd.microsoft.datawrangler.viewer.v0+json": {
       "columns": [
        {
         "name": "index",
         "rawType": "int64",
         "type": "integer"
        },
        {
         "name": "Région administrative",
         "rawType": "object",
         "type": "string"
        },
        {
         "name": "Nom d'entreprise",
         "rawType": "object",
         "type": "string"
        },
        {
         "name": "Type d'installation",
         "rawType": "object",
         "type": "string"
        },
        {
         "name": "Conditions d'acceptation",
         "rawType": "object",
         "type": "string"
        },
        {
         "name": "Reconnaissance valide jusqu'au ",
         "rawType": "object",
         "type": "string"
        },
        {
         "name": "Tonnage traité",
         "rawType": "object",
         "type": "string"
        },
        {
         "name": "Agrégats",
         "rawType": "object",
         "type": "string"
        },
        {
         "name": "Bardeaux",
         "rawType": "object",
         "type": "unknown"
        },
        {
         "name": "Bois - Recyclage",
         "rawType": "object",
         "type": "string"
        },
        {
         "name": "Bois - Valorisation",
         "rawType": "object",
         "type": "string"
        },
        {
         "name": "Bois traité",
         "rawType": "object",
         "type": "unknown"
        },
        {
         "name": "Carton",
         "rawType": "object",
         "type": "unknown"
        },
        {
         "name": "Gypse*",
         "rawType": "object",
         "type": "unknown"
        },
        {
         "name": "Métaux",
         "rawType": "object",
         "type": "string"
        },
        {
         "name": "Mélange combustible",
         "rawType": "object",
         "type": "unknown"
        },
        {
         "name": "Plastique",
         "rawType": "object",
         "type": "unknown"
        },
        {
         "name": "Plastique PVC",
         "rawType": "float64",
         "type": "float"
        },
        {
         "name": "Verre",
         "rawType": "object",
         "type": "unknown"
        },
        {
         "name": "Taux de recyclage et de valorisation énergétique",
         "rawType": "object",
         "type": "string"
        },
        {
         "name": "Taux incluant les matières utilisées dans les lieux d'élimination",
         "rawType": "object",
         "type": "string"
        },
        {
         "name": "Taux de rejets",
         "rawType": "object",
         "type": "string"
        },
        {
         "name": "Adresse ",
         "rawType": "object",
         "type": "string"
        },
        {
         "name": "Municipalité ",
         "rawType": "object",
         "type": "string"
        },
        {
         "name": "Code Postal ",
         "rawType": "object",
         "type": "string"
        },
        {
         "name": "Téléphone ",
         "rawType": "object",
         "type": "string"
        },
        {
         "name": "Site Web",
         "rawType": "object",
         "type": "string"
        }
       ],
       "ref": "148ed4c0-26e5-4a19-b2c2-748b1d1ab19b",
       "rows": [
        [
         "0",
         "01 Bas-Saint-Laurent",
         "GFL-Matrec - Matane et Rimouski",
         "#NAME?",
         "Pêle-mêle, Prétrié, Séparé",
         "31 mars 2028",
         "Entre 20 000 et 40 000 t.",
         "Oui",
         "Oui",
         "81%",
         "19%",
         null,
         "Oui",
         null,
         "Oui",
         null,
         null,
         null,
         null,
         "40%",
         "83%",
         "17%",
         "75, rue Savard",
         "Matane",
         "G4W 0H9",
         "418 562-5116",
         "www.gflenv.com/fr/"
        ],
        [
         "1",
         "01 Bas-Saint-Laurent",
         "GFL-Matrec - Rivière-du-Loup",
         "#NAME?",
         "Pêle-mêle, Prétrié, Séparé",
         "31 mars 2026",
         "Entre 40 000 et 60 000 t.",
         "Oui",
         null,
         "2%",
         "98%",
         "Oui",
         "Oui",
         null,
         "Oui",
         null,
         null,
         null,
         "Oui",
         "25%",
         "85%",
         "15%",
         "10, rue Charles-St-Pierre",
         "Rivière-du-Loup",
         "G5R 0N6",
         "418 862-0309",
         "www.gflenv.com/fr/"
        ],
        [
         "2",
         "02 Saguenay-Lac-Saint-Jean",
         "Centrem",
         "#NAME?",
         "Pêle-mêle, Prétrié, Séparé",
         "31 mars 2028",
         "Entre 20 000 et 40 000 t.",
         "Oui",
         "Oui",
         "0%",
         "100%",
         null,
         null,
         "Oui*",
         "Oui",
         "Oui",
         null,
         null,
         null,
         "72%",
         "89%",
         "11%",
         "1125, rue des Pins",
         "Alma",
         "G8B 7V7",
         "418 668-3223",
         "groupedemexcentrem.com"
        ],
        [
         "3",
         "03 Capitale-Nationale",
         "AIM Éco-Centre **",
         "#NAME?",
         "Pêle-mêle, Prétrié, Séparé",
         "31 mars 2028",
         "Entre 80 000 et 100 000 t.",
         "Oui",
         "Oui",
         "38%",
         "62%",
         "Oui",
         "Oui",
         "Oui",
         "Oui",
         "Oui",
         "Oui",
         null,
         "Oui",
         "39%",
         "84%",
         "16%",
         "220, rue Rotterdam",
         "Saint-Augustin-de-Desmaures",
         "G3A 1T4",
         "418 843-6141",
         "aim-ecocentre.com"
        ],
        [
         "4",
         "03 Capitale-Nationale",
         "Eddy Fugère inc.",
         "#NAME?",
         "Pêle-mêle, Prétrié, Séparé",
         "31 mars 2028",
         "Entre 80 000 et 100 000 t.",
         "Oui",
         "Oui",
         "14%",
         "86%",
         null,
         "Oui",
         null,
         "Oui",
         "Oui",
         null,
         null,
         "Oui",
         "41%",
         "61%",
         "39%",
         "315, rue Jackson",
         "Québec",
         "G1N 4C4",
         "418 683-3981",
         "S.O."
        ]
       ],
       "shape": {
        "columns": 26,
        "rows": 5
       }
      },
      "text/html": [
       "<div>\n",
       "<style scoped>\n",
       "    .dataframe tbody tr th:only-of-type {\n",
       "        vertical-align: middle;\n",
       "    }\n",
       "\n",
       "    .dataframe tbody tr th {\n",
       "        vertical-align: top;\n",
       "    }\n",
       "\n",
       "    .dataframe thead th {\n",
       "        text-align: right;\n",
       "    }\n",
       "</style>\n",
       "<table border=\"1\" class=\"dataframe\">\n",
       "  <thead>\n",
       "    <tr style=\"text-align: right;\">\n",
       "      <th></th>\n",
       "      <th>Région administrative</th>\n",
       "      <th>Nom d'entreprise</th>\n",
       "      <th>Type d'installation</th>\n",
       "      <th>Conditions d'acceptation</th>\n",
       "      <th>Reconnaissance valide jusqu'au</th>\n",
       "      <th>Tonnage traité</th>\n",
       "      <th>Agrégats</th>\n",
       "      <th>Bardeaux</th>\n",
       "      <th>Bois - Recyclage</th>\n",
       "      <th>Bois - Valorisation</th>\n",
       "      <th>...</th>\n",
       "      <th>Plastique PVC</th>\n",
       "      <th>Verre</th>\n",
       "      <th>Taux de recyclage et de valorisation énergétique</th>\n",
       "      <th>Taux incluant les matières utilisées dans les lieux d'élimination</th>\n",
       "      <th>Taux de rejets</th>\n",
       "      <th>Adresse</th>\n",
       "      <th>Municipalité</th>\n",
       "      <th>Code Postal</th>\n",
       "      <th>Téléphone</th>\n",
       "      <th>Site Web</th>\n",
       "    </tr>\n",
       "  </thead>\n",
       "  <tbody>\n",
       "    <tr>\n",
       "      <th>0</th>\n",
       "      <td>01 Bas-Saint-Laurent</td>\n",
       "      <td>GFL-Matrec - Matane et Rimouski</td>\n",
       "      <td>#NAME?</td>\n",
       "      <td>Pêle-mêle, Prétrié, Séparé</td>\n",
       "      <td>31 mars 2028</td>\n",
       "      <td>Entre 20 000 et 40 000 t.</td>\n",
       "      <td>Oui</td>\n",
       "      <td>Oui</td>\n",
       "      <td>81%</td>\n",
       "      <td>19%</td>\n",
       "      <td>...</td>\n",
       "      <td>NaN</td>\n",
       "      <td>NaN</td>\n",
       "      <td>40%</td>\n",
       "      <td>83%</td>\n",
       "      <td>17%</td>\n",
       "      <td>75, rue Savard</td>\n",
       "      <td>Matane</td>\n",
       "      <td>G4W 0H9</td>\n",
       "      <td>418 562-5116</td>\n",
       "      <td>www.gflenv.com/fr/</td>\n",
       "    </tr>\n",
       "    <tr>\n",
       "      <th>1</th>\n",
       "      <td>01 Bas-Saint-Laurent</td>\n",
       "      <td>GFL-Matrec - Rivière-du-Loup</td>\n",
       "      <td>#NAME?</td>\n",
       "      <td>Pêle-mêle, Prétrié, Séparé</td>\n",
       "      <td>31 mars 2026</td>\n",
       "      <td>Entre 40 000 et 60 000 t.</td>\n",
       "      <td>Oui</td>\n",
       "      <td>NaN</td>\n",
       "      <td>2%</td>\n",
       "      <td>98%</td>\n",
       "      <td>...</td>\n",
       "      <td>NaN</td>\n",
       "      <td>Oui</td>\n",
       "      <td>25%</td>\n",
       "      <td>85%</td>\n",
       "      <td>15%</td>\n",
       "      <td>10, rue Charles-St-Pierre</td>\n",
       "      <td>Rivière-du-Loup</td>\n",
       "      <td>G5R 0N6</td>\n",
       "      <td>418 862-0309</td>\n",
       "      <td>www.gflenv.com/fr/</td>\n",
       "    </tr>\n",
       "    <tr>\n",
       "      <th>2</th>\n",
       "      <td>02 Saguenay-Lac-Saint-Jean</td>\n",
       "      <td>Centrem</td>\n",
       "      <td>#NAME?</td>\n",
       "      <td>Pêle-mêle, Prétrié, Séparé</td>\n",
       "      <td>31 mars 2028</td>\n",
       "      <td>Entre 20 000 et 40 000 t.</td>\n",
       "      <td>Oui</td>\n",
       "      <td>Oui</td>\n",
       "      <td>0%</td>\n",
       "      <td>100%</td>\n",
       "      <td>...</td>\n",
       "      <td>NaN</td>\n",
       "      <td>NaN</td>\n",
       "      <td>72%</td>\n",
       "      <td>89%</td>\n",
       "      <td>11%</td>\n",
       "      <td>1125, rue des Pins</td>\n",
       "      <td>Alma</td>\n",
       "      <td>G8B 7V7</td>\n",
       "      <td>418 668-3223</td>\n",
       "      <td>groupedemexcentrem.com</td>\n",
       "    </tr>\n",
       "    <tr>\n",
       "      <th>3</th>\n",
       "      <td>03 Capitale-Nationale</td>\n",
       "      <td>AIM Éco-Centre **</td>\n",
       "      <td>#NAME?</td>\n",
       "      <td>Pêle-mêle, Prétrié, Séparé</td>\n",
       "      <td>31 mars 2028</td>\n",
       "      <td>Entre 80 000 et 100 000 t.</td>\n",
       "      <td>Oui</td>\n",
       "      <td>Oui</td>\n",
       "      <td>38%</td>\n",
       "      <td>62%</td>\n",
       "      <td>...</td>\n",
       "      <td>NaN</td>\n",
       "      <td>Oui</td>\n",
       "      <td>39%</td>\n",
       "      <td>84%</td>\n",
       "      <td>16%</td>\n",
       "      <td>220, rue Rotterdam</td>\n",
       "      <td>Saint-Augustin-de-Desmaures</td>\n",
       "      <td>G3A 1T4</td>\n",
       "      <td>418 843-6141</td>\n",
       "      <td>aim-ecocentre.com</td>\n",
       "    </tr>\n",
       "    <tr>\n",
       "      <th>4</th>\n",
       "      <td>03 Capitale-Nationale</td>\n",
       "      <td>Eddy Fugère inc.</td>\n",
       "      <td>#NAME?</td>\n",
       "      <td>Pêle-mêle, Prétrié, Séparé</td>\n",
       "      <td>31 mars 2028</td>\n",
       "      <td>Entre 80 000 et 100 000 t.</td>\n",
       "      <td>Oui</td>\n",
       "      <td>Oui</td>\n",
       "      <td>14%</td>\n",
       "      <td>86%</td>\n",
       "      <td>...</td>\n",
       "      <td>NaN</td>\n",
       "      <td>Oui</td>\n",
       "      <td>41%</td>\n",
       "      <td>61%</td>\n",
       "      <td>39%</td>\n",
       "      <td>315, rue Jackson</td>\n",
       "      <td>Québec</td>\n",
       "      <td>G1N 4C4</td>\n",
       "      <td>418 683-3981</td>\n",
       "      <td>S.O.</td>\n",
       "    </tr>\n",
       "  </tbody>\n",
       "</table>\n",
       "<p>5 rows × 26 columns</p>\n",
       "</div>"
      ],
      "text/plain": [
       "        Région administrative                 Nom d'entreprise  \\\n",
       "0        01 Bas-Saint-Laurent  GFL-Matrec - Matane et Rimouski   \n",
       "1        01 Bas-Saint-Laurent     GFL-Matrec - Rivière-du-Loup   \n",
       "2  02 Saguenay-Lac-Saint-Jean                          Centrem   \n",
       "3       03 Capitale-Nationale                AIM Éco-Centre **   \n",
       "4       03 Capitale-Nationale                 Eddy Fugère inc.   \n",
       "\n",
       "  Type d'installation    Conditions d'acceptation  \\\n",
       "0              #NAME?  Pêle-mêle, Prétrié, Séparé   \n",
       "1              #NAME?  Pêle-mêle, Prétrié, Séparé   \n",
       "2              #NAME?  Pêle-mêle, Prétrié, Séparé   \n",
       "3              #NAME?  Pêle-mêle, Prétrié, Séparé   \n",
       "4              #NAME?  Pêle-mêle, Prétrié, Séparé   \n",
       "\n",
       "  Reconnaissance valide jusqu'au               Tonnage traité Agrégats  \\\n",
       "0                    31 mars 2028   Entre 20 000 et 40 000 t.      Oui   \n",
       "1                    31 mars 2026   Entre 40 000 et 60 000 t.      Oui   \n",
       "2                    31 mars 2028   Entre 20 000 et 40 000 t.      Oui   \n",
       "3                    31 mars 2028  Entre 80 000 et 100 000 t.      Oui   \n",
       "4                    31 mars 2028  Entre 80 000 et 100 000 t.      Oui   \n",
       "\n",
       "  Bardeaux Bois - Recyclage Bois - Valorisation  ... Plastique PVC Verre  \\\n",
       "0      Oui              81%                 19%  ...           NaN   NaN   \n",
       "1      NaN               2%                 98%  ...           NaN   Oui   \n",
       "2      Oui               0%                100%  ...           NaN   NaN   \n",
       "3      Oui              38%                 62%  ...           NaN   Oui   \n",
       "4      Oui              14%                 86%  ...           NaN   Oui   \n",
       "\n",
       "  Taux de recyclage et de valorisation énergétique  \\\n",
       "0                                              40%   \n",
       "1                                              25%   \n",
       "2                                              72%   \n",
       "3                                              39%   \n",
       "4                                              41%   \n",
       "\n",
       "  Taux incluant les matières utilisées dans les lieux d'élimination  \\\n",
       "0                                                83%                  \n",
       "1                                                85%                  \n",
       "2                                                89%                  \n",
       "3                                                84%                  \n",
       "4                                                61%                  \n",
       "\n",
       "  Taux de rejets                   Adresse                 Municipalité   \\\n",
       "0            17%             75, rue Savard                       Matane   \n",
       "1            15%  10, rue Charles-St-Pierre              Rivière-du-Loup   \n",
       "2            11%         1125, rue des Pins                         Alma   \n",
       "3            16%         220, rue Rotterdam  Saint-Augustin-de-Desmaures   \n",
       "4            39%           315, rue Jackson                       Québec   \n",
       "\n",
       "  Code Postal     Téléphone                 Site Web  \n",
       "0      G4W 0H9  418 562-5116      www.gflenv.com/fr/  \n",
       "1      G5R 0N6  418 862-0309      www.gflenv.com/fr/  \n",
       "2      G8B 7V7  418 668-3223  groupedemexcentrem.com  \n",
       "3      G3A 1T4  418 843-6141       aim-ecocentre.com  \n",
       "4      G1N 4C4  418 683-3981                    S.O.  \n",
       "\n",
       "[5 rows x 26 columns]"
      ]
     },
     "metadata": {},
     "output_type": "display_data"
    }
   ],
   "source": [
    "import pandas as pd\n",
    "\n",
    "faits = pd.read_csv('../dataset/Matieres_residuelles_recuperees.csv', sep=';')\n",
    "sites = pd.read_csv('../dataset/liste-centres-tri-crd.csv')\n",
    "\n",
    "# Dimension TypeMatiere\n",
    "dim_type_matiere = pd.DataFrame({'type_matiere': faits['Type de matières récupérées'].unique()})\n",
    "# Dimension Producteur\n",
    "dim_producteur = pd.DataFrame({'producteur': faits['Sources des matières préparées en vue du recyclage'].unique()})\n",
    "\n",
    "# Dimension Temps\n",
    "dim_temps = pd.DataFrame({'periode': faits['PÉRIODE DE RÉFÉRENCE'].unique()})\n",
    "\n",
    "# Dimension SiteValorisation\n",
    "dim_site_valorisation = sites.drop_duplicates().reset_index(drop=True)\n",
    "\n",
    "print(\"Dimension TypeMatiere\")\n",
    "display(dim_type_matiere.head())\n",
    "\n",
    "print(\"\\nDimension Producteur\")\n",
    "display(dim_producteur.head())\n",
    "\n",
    "print(\"\\nDimension Temps\")\n",
    "display(dim_temps.head())\n",
    "\n",
    "print(\"\\nDimension SiteValorisation\")\n",
    "display(dim_site_valorisation.head())\n",
    "\n",
    "\n"
   ]
  },
  {
   "cell_type": "code",
   "execution_count": 3,
   "id": "1dc54c34",
   "metadata": {},
   "outputs": [
    {
     "ename": "OSError",
     "evalue": "Cannot save file into a non-existent directory: '../dataset/generated'",
     "output_type": "error",
     "traceback": [
      "\u001b[31m---------------------------------------------------------------------------\u001b[39m",
      "\u001b[31mOSError\u001b[39m                                   Traceback (most recent call last)",
      "\u001b[36mCell\u001b[39m\u001b[36m \u001b[39m\u001b[32mIn[3]\u001b[39m\u001b[32m, line 2\u001b[39m\n\u001b[32m      1\u001b[39m \u001b[38;5;66;03m# Persistance des dimensions en CSV\u001b[39;00m\n\u001b[32m----> \u001b[39m\u001b[32m2\u001b[39m \u001b[43mdim_type_matiere\u001b[49m\u001b[43m.\u001b[49m\u001b[43mto_csv\u001b[49m\u001b[43m(\u001b[49m\u001b[33;43m'\u001b[39;49m\u001b[33;43m../dataset/generated/dim_type_matiere.csv\u001b[39;49m\u001b[33;43m'\u001b[39;49m\u001b[43m,\u001b[49m\u001b[43m \u001b[49m\u001b[43mindex\u001b[49m\u001b[43m=\u001b[49m\u001b[38;5;28;43;01mFalse\u001b[39;49;00m\u001b[43m)\u001b[49m\n\u001b[32m      3\u001b[39m dim_producteur.to_csv(\u001b[33m'\u001b[39m\u001b[33m../dataset/generated/dim_producteur.csv\u001b[39m\u001b[33m'\u001b[39m, index=\u001b[38;5;28;01mFalse\u001b[39;00m)\n\u001b[32m      4\u001b[39m dim_temps.to_csv(\u001b[33m'\u001b[39m\u001b[33m../dataset/generated/dim_temps.csv\u001b[39m\u001b[33m'\u001b[39m, index=\u001b[38;5;28;01mFalse\u001b[39;00m)\n",
      "\u001b[36mFile \u001b[39m\u001b[32m~/DEV/UQAM/MTI/venv/lib/python3.12/site-packages/pandas/util/_decorators.py:333\u001b[39m, in \u001b[36mdeprecate_nonkeyword_arguments.<locals>.decorate.<locals>.wrapper\u001b[39m\u001b[34m(*args, **kwargs)\u001b[39m\n\u001b[32m    327\u001b[39m \u001b[38;5;28;01mif\u001b[39;00m \u001b[38;5;28mlen\u001b[39m(args) > num_allow_args:\n\u001b[32m    328\u001b[39m     warnings.warn(\n\u001b[32m    329\u001b[39m         msg.format(arguments=_format_argument_list(allow_args)),\n\u001b[32m    330\u001b[39m         \u001b[38;5;167;01mFutureWarning\u001b[39;00m,\n\u001b[32m    331\u001b[39m         stacklevel=find_stack_level(),\n\u001b[32m    332\u001b[39m     )\n\u001b[32m--> \u001b[39m\u001b[32m333\u001b[39m \u001b[38;5;28;01mreturn\u001b[39;00m \u001b[43mfunc\u001b[49m\u001b[43m(\u001b[49m\u001b[43m*\u001b[49m\u001b[43margs\u001b[49m\u001b[43m,\u001b[49m\u001b[43m \u001b[49m\u001b[43m*\u001b[49m\u001b[43m*\u001b[49m\u001b[43mkwargs\u001b[49m\u001b[43m)\u001b[49m\n",
      "\u001b[36mFile \u001b[39m\u001b[32m~/DEV/UQAM/MTI/venv/lib/python3.12/site-packages/pandas/core/generic.py:3986\u001b[39m, in \u001b[36mNDFrame.to_csv\u001b[39m\u001b[34m(self, path_or_buf, sep, na_rep, float_format, columns, header, index, index_label, mode, encoding, compression, quoting, quotechar, lineterminator, chunksize, date_format, doublequote, escapechar, decimal, errors, storage_options)\u001b[39m\n\u001b[32m   3975\u001b[39m df = \u001b[38;5;28mself\u001b[39m \u001b[38;5;28;01mif\u001b[39;00m \u001b[38;5;28misinstance\u001b[39m(\u001b[38;5;28mself\u001b[39m, ABCDataFrame) \u001b[38;5;28;01melse\u001b[39;00m \u001b[38;5;28mself\u001b[39m.to_frame()\n\u001b[32m   3977\u001b[39m formatter = DataFrameFormatter(\n\u001b[32m   3978\u001b[39m     frame=df,\n\u001b[32m   3979\u001b[39m     header=header,\n\u001b[32m   (...)\u001b[39m\u001b[32m   3983\u001b[39m     decimal=decimal,\n\u001b[32m   3984\u001b[39m )\n\u001b[32m-> \u001b[39m\u001b[32m3986\u001b[39m \u001b[38;5;28;01mreturn\u001b[39;00m \u001b[43mDataFrameRenderer\u001b[49m\u001b[43m(\u001b[49m\u001b[43mformatter\u001b[49m\u001b[43m)\u001b[49m\u001b[43m.\u001b[49m\u001b[43mto_csv\u001b[49m\u001b[43m(\u001b[49m\n\u001b[32m   3987\u001b[39m \u001b[43m    \u001b[49m\u001b[43mpath_or_buf\u001b[49m\u001b[43m,\u001b[49m\n\u001b[32m   3988\u001b[39m \u001b[43m    \u001b[49m\u001b[43mlineterminator\u001b[49m\u001b[43m=\u001b[49m\u001b[43mlineterminator\u001b[49m\u001b[43m,\u001b[49m\n\u001b[32m   3989\u001b[39m \u001b[43m    \u001b[49m\u001b[43msep\u001b[49m\u001b[43m=\u001b[49m\u001b[43msep\u001b[49m\u001b[43m,\u001b[49m\n\u001b[32m   3990\u001b[39m \u001b[43m    \u001b[49m\u001b[43mencoding\u001b[49m\u001b[43m=\u001b[49m\u001b[43mencoding\u001b[49m\u001b[43m,\u001b[49m\n\u001b[32m   3991\u001b[39m \u001b[43m    \u001b[49m\u001b[43merrors\u001b[49m\u001b[43m=\u001b[49m\u001b[43merrors\u001b[49m\u001b[43m,\u001b[49m\n\u001b[32m   3992\u001b[39m \u001b[43m    \u001b[49m\u001b[43mcompression\u001b[49m\u001b[43m=\u001b[49m\u001b[43mcompression\u001b[49m\u001b[43m,\u001b[49m\n\u001b[32m   3993\u001b[39m \u001b[43m    \u001b[49m\u001b[43mquoting\u001b[49m\u001b[43m=\u001b[49m\u001b[43mquoting\u001b[49m\u001b[43m,\u001b[49m\n\u001b[32m   3994\u001b[39m \u001b[43m    \u001b[49m\u001b[43mcolumns\u001b[49m\u001b[43m=\u001b[49m\u001b[43mcolumns\u001b[49m\u001b[43m,\u001b[49m\n\u001b[32m   3995\u001b[39m \u001b[43m    \u001b[49m\u001b[43mindex_label\u001b[49m\u001b[43m=\u001b[49m\u001b[43mindex_label\u001b[49m\u001b[43m,\u001b[49m\n\u001b[32m   3996\u001b[39m \u001b[43m    \u001b[49m\u001b[43mmode\u001b[49m\u001b[43m=\u001b[49m\u001b[43mmode\u001b[49m\u001b[43m,\u001b[49m\n\u001b[32m   3997\u001b[39m \u001b[43m    \u001b[49m\u001b[43mchunksize\u001b[49m\u001b[43m=\u001b[49m\u001b[43mchunksize\u001b[49m\u001b[43m,\u001b[49m\n\u001b[32m   3998\u001b[39m \u001b[43m    \u001b[49m\u001b[43mquotechar\u001b[49m\u001b[43m=\u001b[49m\u001b[43mquotechar\u001b[49m\u001b[43m,\u001b[49m\n\u001b[32m   3999\u001b[39m \u001b[43m    \u001b[49m\u001b[43mdate_format\u001b[49m\u001b[43m=\u001b[49m\u001b[43mdate_format\u001b[49m\u001b[43m,\u001b[49m\n\u001b[32m   4000\u001b[39m \u001b[43m    \u001b[49m\u001b[43mdoublequote\u001b[49m\u001b[43m=\u001b[49m\u001b[43mdoublequote\u001b[49m\u001b[43m,\u001b[49m\n\u001b[32m   4001\u001b[39m \u001b[43m    \u001b[49m\u001b[43mescapechar\u001b[49m\u001b[43m=\u001b[49m\u001b[43mescapechar\u001b[49m\u001b[43m,\u001b[49m\n\u001b[32m   4002\u001b[39m \u001b[43m    \u001b[49m\u001b[43mstorage_options\u001b[49m\u001b[43m=\u001b[49m\u001b[43mstorage_options\u001b[49m\u001b[43m,\u001b[49m\n\u001b[32m   4003\u001b[39m \u001b[43m\u001b[49m\u001b[43m)\u001b[49m\n",
      "\u001b[36mFile \u001b[39m\u001b[32m~/DEV/UQAM/MTI/venv/lib/python3.12/site-packages/pandas/io/formats/format.py:1014\u001b[39m, in \u001b[36mDataFrameRenderer.to_csv\u001b[39m\u001b[34m(self, path_or_buf, encoding, sep, columns, index_label, mode, compression, quoting, quotechar, lineterminator, chunksize, date_format, doublequote, escapechar, errors, storage_options)\u001b[39m\n\u001b[32m    993\u001b[39m     created_buffer = \u001b[38;5;28;01mFalse\u001b[39;00m\n\u001b[32m    995\u001b[39m csv_formatter = CSVFormatter(\n\u001b[32m    996\u001b[39m     path_or_buf=path_or_buf,\n\u001b[32m    997\u001b[39m     lineterminator=lineterminator,\n\u001b[32m   (...)\u001b[39m\u001b[32m   1012\u001b[39m     formatter=\u001b[38;5;28mself\u001b[39m.fmt,\n\u001b[32m   1013\u001b[39m )\n\u001b[32m-> \u001b[39m\u001b[32m1014\u001b[39m \u001b[43mcsv_formatter\u001b[49m\u001b[43m.\u001b[49m\u001b[43msave\u001b[49m\u001b[43m(\u001b[49m\u001b[43m)\u001b[49m\n\u001b[32m   1016\u001b[39m \u001b[38;5;28;01mif\u001b[39;00m created_buffer:\n\u001b[32m   1017\u001b[39m     \u001b[38;5;28;01massert\u001b[39;00m \u001b[38;5;28misinstance\u001b[39m(path_or_buf, StringIO)\n",
      "\u001b[36mFile \u001b[39m\u001b[32m~/DEV/UQAM/MTI/venv/lib/python3.12/site-packages/pandas/io/formats/csvs.py:251\u001b[39m, in \u001b[36mCSVFormatter.save\u001b[39m\u001b[34m(self)\u001b[39m\n\u001b[32m    247\u001b[39m \u001b[38;5;250m\u001b[39m\u001b[33;03m\"\"\"\u001b[39;00m\n\u001b[32m    248\u001b[39m \u001b[33;03mCreate the writer & save.\u001b[39;00m\n\u001b[32m    249\u001b[39m \u001b[33;03m\"\"\"\u001b[39;00m\n\u001b[32m    250\u001b[39m \u001b[38;5;66;03m# apply compression and byte/text conversion\u001b[39;00m\n\u001b[32m--> \u001b[39m\u001b[32m251\u001b[39m \u001b[38;5;28;01mwith\u001b[39;00m \u001b[43mget_handle\u001b[49m\u001b[43m(\u001b[49m\n\u001b[32m    252\u001b[39m \u001b[43m    \u001b[49m\u001b[38;5;28;43mself\u001b[39;49m\u001b[43m.\u001b[49m\u001b[43mfilepath_or_buffer\u001b[49m\u001b[43m,\u001b[49m\n\u001b[32m    253\u001b[39m \u001b[43m    \u001b[49m\u001b[38;5;28;43mself\u001b[39;49m\u001b[43m.\u001b[49m\u001b[43mmode\u001b[49m\u001b[43m,\u001b[49m\n\u001b[32m    254\u001b[39m \u001b[43m    \u001b[49m\u001b[43mencoding\u001b[49m\u001b[43m=\u001b[49m\u001b[38;5;28;43mself\u001b[39;49m\u001b[43m.\u001b[49m\u001b[43mencoding\u001b[49m\u001b[43m,\u001b[49m\n\u001b[32m    255\u001b[39m \u001b[43m    \u001b[49m\u001b[43merrors\u001b[49m\u001b[43m=\u001b[49m\u001b[38;5;28;43mself\u001b[39;49m\u001b[43m.\u001b[49m\u001b[43merrors\u001b[49m\u001b[43m,\u001b[49m\n\u001b[32m    256\u001b[39m \u001b[43m    \u001b[49m\u001b[43mcompression\u001b[49m\u001b[43m=\u001b[49m\u001b[38;5;28;43mself\u001b[39;49m\u001b[43m.\u001b[49m\u001b[43mcompression\u001b[49m\u001b[43m,\u001b[49m\n\u001b[32m    257\u001b[39m \u001b[43m    \u001b[49m\u001b[43mstorage_options\u001b[49m\u001b[43m=\u001b[49m\u001b[38;5;28;43mself\u001b[39;49m\u001b[43m.\u001b[49m\u001b[43mstorage_options\u001b[49m\u001b[43m,\u001b[49m\n\u001b[32m    258\u001b[39m \u001b[43m\u001b[49m\u001b[43m)\u001b[49m \u001b[38;5;28;01mas\u001b[39;00m handles:\n\u001b[32m    259\u001b[39m     \u001b[38;5;66;03m# Note: self.encoding is irrelevant here\u001b[39;00m\n\u001b[32m    260\u001b[39m     \u001b[38;5;28mself\u001b[39m.writer = csvlib.writer(\n\u001b[32m    261\u001b[39m         handles.handle,\n\u001b[32m    262\u001b[39m         lineterminator=\u001b[38;5;28mself\u001b[39m.lineterminator,\n\u001b[32m   (...)\u001b[39m\u001b[32m    267\u001b[39m         quotechar=\u001b[38;5;28mself\u001b[39m.quotechar,\n\u001b[32m    268\u001b[39m     )\n\u001b[32m    270\u001b[39m     \u001b[38;5;28mself\u001b[39m._save()\n",
      "\u001b[36mFile \u001b[39m\u001b[32m~/DEV/UQAM/MTI/venv/lib/python3.12/site-packages/pandas/io/common.py:749\u001b[39m, in \u001b[36mget_handle\u001b[39m\u001b[34m(path_or_buf, mode, encoding, compression, memory_map, is_text, errors, storage_options)\u001b[39m\n\u001b[32m    747\u001b[39m \u001b[38;5;66;03m# Only for write methods\u001b[39;00m\n\u001b[32m    748\u001b[39m \u001b[38;5;28;01mif\u001b[39;00m \u001b[33m\"\u001b[39m\u001b[33mr\u001b[39m\u001b[33m\"\u001b[39m \u001b[38;5;129;01mnot\u001b[39;00m \u001b[38;5;129;01min\u001b[39;00m mode \u001b[38;5;129;01mand\u001b[39;00m is_path:\n\u001b[32m--> \u001b[39m\u001b[32m749\u001b[39m     \u001b[43mcheck_parent_directory\u001b[49m\u001b[43m(\u001b[49m\u001b[38;5;28;43mstr\u001b[39;49m\u001b[43m(\u001b[49m\u001b[43mhandle\u001b[49m\u001b[43m)\u001b[49m\u001b[43m)\u001b[49m\n\u001b[32m    751\u001b[39m \u001b[38;5;28;01mif\u001b[39;00m compression:\n\u001b[32m    752\u001b[39m     \u001b[38;5;28;01mif\u001b[39;00m compression != \u001b[33m\"\u001b[39m\u001b[33mzstd\u001b[39m\u001b[33m\"\u001b[39m:\n\u001b[32m    753\u001b[39m         \u001b[38;5;66;03m# compression libraries do not like an explicit text-mode\u001b[39;00m\n",
      "\u001b[36mFile \u001b[39m\u001b[32m~/DEV/UQAM/MTI/venv/lib/python3.12/site-packages/pandas/io/common.py:616\u001b[39m, in \u001b[36mcheck_parent_directory\u001b[39m\u001b[34m(path)\u001b[39m\n\u001b[32m    614\u001b[39m parent = Path(path).parent\n\u001b[32m    615\u001b[39m \u001b[38;5;28;01mif\u001b[39;00m \u001b[38;5;129;01mnot\u001b[39;00m parent.is_dir():\n\u001b[32m--> \u001b[39m\u001b[32m616\u001b[39m     \u001b[38;5;28;01mraise\u001b[39;00m \u001b[38;5;167;01mOSError\u001b[39;00m(\u001b[33mrf\u001b[39m\u001b[33m\"\u001b[39m\u001b[33mCannot save file into a non-existent directory: \u001b[39m\u001b[33m'\u001b[39m\u001b[38;5;132;01m{\u001b[39;00mparent\u001b[38;5;132;01m}\u001b[39;00m\u001b[33m'\u001b[39m\u001b[33m\"\u001b[39m)\n",
      "\u001b[31mOSError\u001b[39m: Cannot save file into a non-existent directory: '../dataset/generated'"
     ]
    }
   ],
   "source": [
    "# Persistance des dimensions en CSV\n",
    "dim_type_matiere.to_csv('../dataset/generated/dim_type_matiere.csv', index=False)\n",
    "dim_producteur.to_csv('../dataset/generated/dim_producteur.csv', index=False)\n",
    "dim_temps.to_csv('../dataset/generated/dim_temps.csv', index=False)\n",
    "dim_site_valorisation.to_csv('../dataset/generated/dim_site_valorisation.csv', index=False)\n",
    "print(\"Dimensions sauvegardées dans des fichiers CSV à la racine du projet.\")"
   ]
  }
 ],
 "metadata": {
  "kernelspec": {
   "display_name": "venv (3.12.3)",
   "language": "python",
   "name": "python3"
  },
  "language_info": {
   "codemirror_mode": {
    "name": "ipython",
    "version": 3
   },
   "file_extension": ".py",
   "mimetype": "text/x-python",
   "name": "python",
   "nbconvert_exporter": "python",
   "pygments_lexer": "ipython3",
   "version": "3.12.3"
  }
 },
 "nbformat": 4,
 "nbformat_minor": 5
}
