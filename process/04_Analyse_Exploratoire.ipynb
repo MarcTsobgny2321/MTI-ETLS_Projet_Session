{
 "cells": [
  {
   "cell_type": "markdown",
   "id": "dd41c55e",
   "metadata": {},
   "source": [
    "# Analyse exploratoire\n",
    "\n",
    "Ce notebook permet d'explorer les données de faits et de dimensions pour en vérifier la qualité et en extraire des statistiques descriptives."
   ]
  },
  {
   "cell_type": "code",
   "execution_count": null,
   "id": "885f1df5",
   "metadata": {},
   "outputs": [],
   "source": [
    "import pandas as pd\n",
    "source_dir = '../generated/'\n",
    "faits_matieres = pd.read_csv(f\"{source_dir}faits_matieres.csv\", sep=',', encoding='utf-8')\n",
    "\n",
    "# Statistiques descriptives\n",
    "faits_matieres.describe()\n",
    "\n",
    "# Répartition par type de matière\n",
    "faits_matieres['type_matiere'].value_counts()\n",
    "\n",
    "# Répartition par producteur\n",
    "faits_matieres['producteur'].value_counts()"
   ]
  },
  {
   "cell_type": "code",
   "execution_count": null,
   "id": "fa8b8c59",
   "metadata": {},
   "outputs": [],
   "source": [
    "# Nombre de valeurs manquantes par colonne\n",
    "print(\"Valeurs manquantes par colonne :\")\n",
    "print(faits_matieres.isnull().sum())\n",
    "\n",
    "# Statistiques sur la colonne 'volume_tonnes'\n",
    "print(\"\\nStatistiques sur 'volume_tonnes' :\")\n",
    "print(faits_matieres['volume_tonnes'].describe())\n",
    "\n",
    "# Répartition des données par année ('periode')\n",
    "print(\"\\nRépartition par année :\")\n",
    "print(faits_matieres['periode'].value_counts().sort_index())\n",
    "\n",
    "# Top 5 des types de matières les plus fréquents\n",
    "print(\"\\nTop 5 des types de matières :\")\n",
    "print(faits_matieres['type_matiere'].value_counts().head())\n",
    "\n",
    "# Top 5 des producteurs les plus fréquents\n",
    "print(\"\\nTop 5 des producteurs :\")\n",
    "print(faits_matieres['producteur'].value_counts().head())\n",
    "\n",
    "# Répartition géographique\n",
    "print(\"\\nRépartition géographique :\")\n",
    "print(faits_matieres['geo'].value_counts().head())"
   ]
  }
 ],
 "metadata": {
  "kernelspec": {
   "display_name": "venv (3.12.3)",
   "language": "python",
   "name": "python3"
  },
  "language_info": {
   "codemirror_mode": {
    "name": "ipython",
    "version": 3
   },
   "file_extension": ".py",
   "mimetype": "text/x-python",
   "name": "python",
   "nbconvert_exporter": "python",
   "pygments_lexer": "ipython3",
   "version": "3.12.3"
  }
 },
 "nbformat": 4,
 "nbformat_minor": 5
}
