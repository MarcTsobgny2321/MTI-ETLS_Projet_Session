{
 "cells": [
  {
   "cell_type": "markdown",
   "id": "f0d52420",
   "metadata": {},
   "source": [
    "# ETL Dimensions\n",
    "\n",
    "Ce notebook extrait et structure les dimensions du projet BI à partir des jeux de données sources."
   ]
  },
  {
   "cell_type": "code",
   "execution_count": 1,
   "id": "68c7c43d",
   "metadata": {},
   "outputs": [
    {
     "name": "stdout",
     "output_type": "stream",
     "text": [
      "Dimension TypeMatiere\n"
     ]
    },
    {
     "data": {
      "application/vnd.microsoft.datawrangler.viewer.v0+json": {
       "columns": [
        {
         "name": "index",
         "rawType": "int64",
         "type": "integer"
        },
        {
         "name": "type_matiere",
         "rawType": "object",
         "type": "string"
        }
       ],
       "ref": "5a2a0384-7cc1-43e6-a9e8-2e4ca8c7784f",
       "rows": [
        [
         "0",
         "Toutes les matières"
        ],
        [
         "1",
         "Toutes les fibres de papier"
        ],
        [
         "2",
         "Verre"
        ],
        [
         "3",
         "Métaux ferreux"
        ],
        [
         "4",
         "Cuivre et aluminium"
        ]
       ],
       "shape": {
        "columns": 1,
        "rows": 5
       }
      },
      "text/html": [
       "<div>\n",
       "<style scoped>\n",
       "    .dataframe tbody tr th:only-of-type {\n",
       "        vertical-align: middle;\n",
       "    }\n",
       "\n",
       "    .dataframe tbody tr th {\n",
       "        vertical-align: top;\n",
       "    }\n",
       "\n",
       "    .dataframe thead th {\n",
       "        text-align: right;\n",
       "    }\n",
       "</style>\n",
       "<table border=\"1\" class=\"dataframe\">\n",
       "  <thead>\n",
       "    <tr style=\"text-align: right;\">\n",
       "      <th></th>\n",
       "      <th>type_matiere</th>\n",
       "    </tr>\n",
       "  </thead>\n",
       "  <tbody>\n",
       "    <tr>\n",
       "      <th>0</th>\n",
       "      <td>Toutes les matières</td>\n",
       "    </tr>\n",
       "    <tr>\n",
       "      <th>1</th>\n",
       "      <td>Toutes les fibres de papier</td>\n",
       "    </tr>\n",
       "    <tr>\n",
       "      <th>2</th>\n",
       "      <td>Verre</td>\n",
       "    </tr>\n",
       "    <tr>\n",
       "      <th>3</th>\n",
       "      <td>Métaux ferreux</td>\n",
       "    </tr>\n",
       "    <tr>\n",
       "      <th>4</th>\n",
       "      <td>Cuivre et aluminium</td>\n",
       "    </tr>\n",
       "  </tbody>\n",
       "</table>\n",
       "</div>"
      ],
      "text/plain": [
       "                  type_matiere\n",
       "0          Toutes les matières\n",
       "1  Toutes les fibres de papier\n",
       "2                        Verre\n",
       "3               Métaux ferreux\n",
       "4          Cuivre et aluminium"
      ]
     },
     "metadata": {},
     "output_type": "display_data"
    },
    {
     "name": "stdout",
     "output_type": "stream",
     "text": [
      "\n",
      "Dimension Producteur\n"
     ]
    },
    {
     "data": {
      "application/vnd.microsoft.datawrangler.viewer.v0+json": {
       "columns": [
        {
         "name": "index",
         "rawType": "int64",
         "type": "integer"
        },
        {
         "name": "producteur",
         "rawType": "object",
         "type": "string"
        }
       ],
       "ref": "6b2060ee-f3a3-44f1-a478-6461b8b5c30c",
       "rows": [
        [
         "0",
         "Toutes les sources des matières récupérées"
        ],
        [
         "1",
         "Sources des matières résidentielles récupérées"
        ],
        [
         "2",
         "Sources des matières non résidentielles récupérées"
        ]
       ],
       "shape": {
        "columns": 1,
        "rows": 3
       }
      },
      "text/html": [
       "<div>\n",
       "<style scoped>\n",
       "    .dataframe tbody tr th:only-of-type {\n",
       "        vertical-align: middle;\n",
       "    }\n",
       "\n",
       "    .dataframe tbody tr th {\n",
       "        vertical-align: top;\n",
       "    }\n",
       "\n",
       "    .dataframe thead th {\n",
       "        text-align: right;\n",
       "    }\n",
       "</style>\n",
       "<table border=\"1\" class=\"dataframe\">\n",
       "  <thead>\n",
       "    <tr style=\"text-align: right;\">\n",
       "      <th></th>\n",
       "      <th>producteur</th>\n",
       "    </tr>\n",
       "  </thead>\n",
       "  <tbody>\n",
       "    <tr>\n",
       "      <th>0</th>\n",
       "      <td>Toutes les sources des matières récupérées</td>\n",
       "    </tr>\n",
       "    <tr>\n",
       "      <th>1</th>\n",
       "      <td>Sources des matières résidentielles récupérées</td>\n",
       "    </tr>\n",
       "    <tr>\n",
       "      <th>2</th>\n",
       "      <td>Sources des matières non résidentielles récupé...</td>\n",
       "    </tr>\n",
       "  </tbody>\n",
       "</table>\n",
       "</div>"
      ],
      "text/plain": [
       "                                          producteur\n",
       "0         Toutes les sources des matières récupérées\n",
       "1     Sources des matières résidentielles récupérées\n",
       "2  Sources des matières non résidentielles récupé..."
      ]
     },
     "metadata": {},
     "output_type": "display_data"
    },
    {
     "name": "stdout",
     "output_type": "stream",
     "text": [
      "\n",
      "Dimension Temps\n"
     ]
    },
    {
     "data": {
      "application/vnd.microsoft.datawrangler.viewer.v0+json": {
       "columns": [
        {
         "name": "index",
         "rawType": "int64",
         "type": "integer"
        },
        {
         "name": "periode",
         "rawType": "int64",
         "type": "integer"
        }
       ],
       "ref": "bf991a7c-f73c-4d46-8900-a15644dbbe9e",
       "rows": [
        [
         "0",
         "2018"
        ],
        [
         "1",
         "2020"
        ],
        [
         "2",
         "2022"
        ]
       ],
       "shape": {
        "columns": 1,
        "rows": 3
       }
      },
      "text/html": [
       "<div>\n",
       "<style scoped>\n",
       "    .dataframe tbody tr th:only-of-type {\n",
       "        vertical-align: middle;\n",
       "    }\n",
       "\n",
       "    .dataframe tbody tr th {\n",
       "        vertical-align: top;\n",
       "    }\n",
       "\n",
       "    .dataframe thead th {\n",
       "        text-align: right;\n",
       "    }\n",
       "</style>\n",
       "<table border=\"1\" class=\"dataframe\">\n",
       "  <thead>\n",
       "    <tr style=\"text-align: right;\">\n",
       "      <th></th>\n",
       "      <th>periode</th>\n",
       "    </tr>\n",
       "  </thead>\n",
       "  <tbody>\n",
       "    <tr>\n",
       "      <th>0</th>\n",
       "      <td>2018</td>\n",
       "    </tr>\n",
       "    <tr>\n",
       "      <th>1</th>\n",
       "      <td>2020</td>\n",
       "    </tr>\n",
       "    <tr>\n",
       "      <th>2</th>\n",
       "      <td>2022</td>\n",
       "    </tr>\n",
       "  </tbody>\n",
       "</table>\n",
       "</div>"
      ],
      "text/plain": [
       "   periode\n",
       "0     2018\n",
       "1     2020\n",
       "2     2022"
      ]
     },
     "metadata": {},
     "output_type": "display_data"
    },
    {
     "name": "stdout",
     "output_type": "stream",
     "text": [
      "\n",
      "Dimension SiteValorisation\n"
     ]
    },
    {
     "data": {
      "application/vnd.microsoft.datawrangler.viewer.v0+json": {
       "columns": [
        {
         "name": "index",
         "rawType": "int64",
         "type": "integer"
        },
        {
         "name": "Région administrative",
         "rawType": "object",
         "type": "string"
        },
        {
         "name": "Nom d'entreprise",
         "rawType": "object",
         "type": "string"
        },
        {
         "name": "Type d'installation",
         "rawType": "object",
         "type": "string"
        },
        {
         "name": "Conditions d'acceptation",
         "rawType": "object",
         "type": "string"
        },
        {
         "name": "Reconnaissance valide jusqu'au ",
         "rawType": "object",
         "type": "string"
        },
        {
         "name": "Tonnage traité",
         "rawType": "object",
         "type": "string"
        },
        {
         "name": "Agrégats",
         "rawType": "object",
         "type": "string"
        },
        {
         "name": "Bardeaux",
         "rawType": "object",
         "type": "unknown"
        },
        {
         "name": "Bois - Recyclage",
         "rawType": "object",
         "type": "string"
        },
        {
         "name": "Bois - Valorisation",
         "rawType": "object",
         "type": "string"
        },
        {
         "name": "Bois traité",
         "rawType": "object",
         "type": "unknown"
        },
        {
         "name": "Carton",
         "rawType": "object",
         "type": "unknown"
        },
        {
         "name": "Gypse*",
         "rawType": "object",
         "type": "unknown"
        },
        {
         "name": "Métaux",
         "rawType": "object",
         "type": "string"
        },
        {
         "name": "Mélange combustible",
         "rawType": "object",
         "type": "unknown"
        },
        {
         "name": "Plastique",
         "rawType": "object",
         "type": "unknown"
        },
        {
         "name": "Plastique PVC",
         "rawType": "float64",
         "type": "float"
        },
        {
         "name": "Verre",
         "rawType": "object",
         "type": "unknown"
        },
        {
         "name": "Taux de recyclage et de valorisation énergétique",
         "rawType": "object",
         "type": "string"
        },
        {
         "name": "Taux incluant les matières utilisées dans les lieux d'élimination",
         "rawType": "object",
         "type": "string"
        },
        {
         "name": "Taux de rejets",
         "rawType": "object",
         "type": "string"
        },
        {
         "name": "Adresse ",
         "rawType": "object",
         "type": "string"
        },
        {
         "name": "Municipalité ",
         "rawType": "object",
         "type": "string"
        },
        {
         "name": "Code Postal ",
         "rawType": "object",
         "type": "string"
        },
        {
         "name": "Téléphone ",
         "rawType": "object",
         "type": "string"
        },
        {
         "name": "Site Web",
         "rawType": "object",
         "type": "string"
        }
       ],
       "ref": "0032e9c8-dc11-4ebe-a43e-84ec179035d4",
       "rows": [
        [
         "0",
         "01 Bas-Saint-Laurent",
         "GFL-Matrec - Matane et Rimouski",
         "#NAME?",
         "Pêle-mêle, Prétrié, Séparé",
         "31 mars 2028",
         "Entre 20 000 et 40 000 t.",
         "Oui",
         "Oui",
         "81%",
         "19%",
         null,
         "Oui",
         null,
         "Oui",
         null,
         null,
         null,
         null,
         "40%",
         "83%",
         "17%",
         "75, rue Savard",
         "Matane",
         "G4W 0H9",
         "418 562-5116",
         "www.gflenv.com/fr/"
        ],
        [
         "1",
         "01 Bas-Saint-Laurent",
         "GFL-Matrec - Rivière-du-Loup",
         "#NAME?",
         "Pêle-mêle, Prétrié, Séparé",
         "31 mars 2026",
         "Entre 40 000 et 60 000 t.",
         "Oui",
         null,
         "2%",
         "98%",
         "Oui",
         "Oui",
         null,
         "Oui",
         null,
         null,
         null,
         "Oui",
         "25%",
         "85%",
         "15%",
         "10, rue Charles-St-Pierre",
         "Rivière-du-Loup",
         "G5R 0N6",
         "418 862-0309",
         "www.gflenv.com/fr/"
        ],
        [
         "2",
         "02 Saguenay-Lac-Saint-Jean",
         "Centrem",
         "#NAME?",
         "Pêle-mêle, Prétrié, Séparé",
         "31 mars 2028",
         "Entre 20 000 et 40 000 t.",
         "Oui",
         "Oui",
         "0%",
         "100%",
         null,
         null,
         "Oui*",
         "Oui",
         "Oui",
         null,
         null,
         null,
         "72%",
         "89%",
         "11%",
         "1125, rue des Pins",
         "Alma",
         "G8B 7V7",
         "418 668-3223",
         "groupedemexcentrem.com"
        ],
        [
         "3",
         "03 Capitale-Nationale",
         "AIM Éco-Centre **",
         "#NAME?",
         "Pêle-mêle, Prétrié, Séparé",
         "31 mars 2028",
         "Entre 80 000 et 100 000 t.",
         "Oui",
         "Oui",
         "38%",
         "62%",
         "Oui",
         "Oui",
         "Oui",
         "Oui",
         "Oui",
         "Oui",
         null,
         "Oui",
         "39%",
         "84%",
         "16%",
         "220, rue Rotterdam",
         "Saint-Augustin-de-Desmaures",
         "G3A 1T4",
         "418 843-6141",
         "aim-ecocentre.com"
        ],
        [
         "4",
         "03 Capitale-Nationale",
         "Eddy Fugère inc.",
         "#NAME?",
         "Pêle-mêle, Prétrié, Séparé",
         "31 mars 2028",
         "Entre 80 000 et 100 000 t.",
         "Oui",
         "Oui",
         "14%",
         "86%",
         null,
         "Oui",
         null,
         "Oui",
         "Oui",
         null,
         null,
         "Oui",
         "41%",
         "61%",
         "39%",
         "315, rue Jackson",
         "Québec",
         "G1N 4C4",
         "418 683-3981",
         "S.O."
        ]
       ],
       "shape": {
        "columns": 26,
        "rows": 5
       }
      },
      "text/html": [
       "<div>\n",
       "<style scoped>\n",
       "    .dataframe tbody tr th:only-of-type {\n",
       "        vertical-align: middle;\n",
       "    }\n",
       "\n",
       "    .dataframe tbody tr th {\n",
       "        vertical-align: top;\n",
       "    }\n",
       "\n",
       "    .dataframe thead th {\n",
       "        text-align: right;\n",
       "    }\n",
       "</style>\n",
       "<table border=\"1\" class=\"dataframe\">\n",
       "  <thead>\n",
       "    <tr style=\"text-align: right;\">\n",
       "      <th></th>\n",
       "      <th>Région administrative</th>\n",
       "      <th>Nom d'entreprise</th>\n",
       "      <th>Type d'installation</th>\n",
       "      <th>Conditions d'acceptation</th>\n",
       "      <th>Reconnaissance valide jusqu'au</th>\n",
       "      <th>Tonnage traité</th>\n",
       "      <th>Agrégats</th>\n",
       "      <th>Bardeaux</th>\n",
       "      <th>Bois - Recyclage</th>\n",
       "      <th>Bois - Valorisation</th>\n",
       "      <th>...</th>\n",
       "      <th>Plastique PVC</th>\n",
       "      <th>Verre</th>\n",
       "      <th>Taux de recyclage et de valorisation énergétique</th>\n",
       "      <th>Taux incluant les matières utilisées dans les lieux d'élimination</th>\n",
       "      <th>Taux de rejets</th>\n",
       "      <th>Adresse</th>\n",
       "      <th>Municipalité</th>\n",
       "      <th>Code Postal</th>\n",
       "      <th>Téléphone</th>\n",
       "      <th>Site Web</th>\n",
       "    </tr>\n",
       "  </thead>\n",
       "  <tbody>\n",
       "    <tr>\n",
       "      <th>0</th>\n",
       "      <td>01 Bas-Saint-Laurent</td>\n",
       "      <td>GFL-Matrec - Matane et Rimouski</td>\n",
       "      <td>#NAME?</td>\n",
       "      <td>Pêle-mêle, Prétrié, Séparé</td>\n",
       "      <td>31 mars 2028</td>\n",
       "      <td>Entre 20 000 et 40 000 t.</td>\n",
       "      <td>Oui</td>\n",
       "      <td>Oui</td>\n",
       "      <td>81%</td>\n",
       "      <td>19%</td>\n",
       "      <td>...</td>\n",
       "      <td>NaN</td>\n",
       "      <td>NaN</td>\n",
       "      <td>40%</td>\n",
       "      <td>83%</td>\n",
       "      <td>17%</td>\n",
       "      <td>75, rue Savard</td>\n",
       "      <td>Matane</td>\n",
       "      <td>G4W 0H9</td>\n",
       "      <td>418 562-5116</td>\n",
       "      <td>www.gflenv.com/fr/</td>\n",
       "    </tr>\n",
       "    <tr>\n",
       "      <th>1</th>\n",
       "      <td>01 Bas-Saint-Laurent</td>\n",
       "      <td>GFL-Matrec - Rivière-du-Loup</td>\n",
       "      <td>#NAME?</td>\n",
       "      <td>Pêle-mêle, Prétrié, Séparé</td>\n",
       "      <td>31 mars 2026</td>\n",
       "      <td>Entre 40 000 et 60 000 t.</td>\n",
       "      <td>Oui</td>\n",
       "      <td>NaN</td>\n",
       "      <td>2%</td>\n",
       "      <td>98%</td>\n",
       "      <td>...</td>\n",
       "      <td>NaN</td>\n",
       "      <td>Oui</td>\n",
       "      <td>25%</td>\n",
       "      <td>85%</td>\n",
       "      <td>15%</td>\n",
       "      <td>10, rue Charles-St-Pierre</td>\n",
       "      <td>Rivière-du-Loup</td>\n",
       "      <td>G5R 0N6</td>\n",
       "      <td>418 862-0309</td>\n",
       "      <td>www.gflenv.com/fr/</td>\n",
       "    </tr>\n",
       "    <tr>\n",
       "      <th>2</th>\n",
       "      <td>02 Saguenay-Lac-Saint-Jean</td>\n",
       "      <td>Centrem</td>\n",
       "      <td>#NAME?</td>\n",
       "      <td>Pêle-mêle, Prétrié, Séparé</td>\n",
       "      <td>31 mars 2028</td>\n",
       "      <td>Entre 20 000 et 40 000 t.</td>\n",
       "      <td>Oui</td>\n",
       "      <td>Oui</td>\n",
       "      <td>0%</td>\n",
       "      <td>100%</td>\n",
       "      <td>...</td>\n",
       "      <td>NaN</td>\n",
       "      <td>NaN</td>\n",
       "      <td>72%</td>\n",
       "      <td>89%</td>\n",
       "      <td>11%</td>\n",
       "      <td>1125, rue des Pins</td>\n",
       "      <td>Alma</td>\n",
       "      <td>G8B 7V7</td>\n",
       "      <td>418 668-3223</td>\n",
       "      <td>groupedemexcentrem.com</td>\n",
       "    </tr>\n",
       "    <tr>\n",
       "      <th>3</th>\n",
       "      <td>03 Capitale-Nationale</td>\n",
       "      <td>AIM Éco-Centre **</td>\n",
       "      <td>#NAME?</td>\n",
       "      <td>Pêle-mêle, Prétrié, Séparé</td>\n",
       "      <td>31 mars 2028</td>\n",
       "      <td>Entre 80 000 et 100 000 t.</td>\n",
       "      <td>Oui</td>\n",
       "      <td>Oui</td>\n",
       "      <td>38%</td>\n",
       "      <td>62%</td>\n",
       "      <td>...</td>\n",
       "      <td>NaN</td>\n",
       "      <td>Oui</td>\n",
       "      <td>39%</td>\n",
       "      <td>84%</td>\n",
       "      <td>16%</td>\n",
       "      <td>220, rue Rotterdam</td>\n",
       "      <td>Saint-Augustin-de-Desmaures</td>\n",
       "      <td>G3A 1T4</td>\n",
       "      <td>418 843-6141</td>\n",
       "      <td>aim-ecocentre.com</td>\n",
       "    </tr>\n",
       "    <tr>\n",
       "      <th>4</th>\n",
       "      <td>03 Capitale-Nationale</td>\n",
       "      <td>Eddy Fugère inc.</td>\n",
       "      <td>#NAME?</td>\n",
       "      <td>Pêle-mêle, Prétrié, Séparé</td>\n",
       "      <td>31 mars 2028</td>\n",
       "      <td>Entre 80 000 et 100 000 t.</td>\n",
       "      <td>Oui</td>\n",
       "      <td>Oui</td>\n",
       "      <td>14%</td>\n",
       "      <td>86%</td>\n",
       "      <td>...</td>\n",
       "      <td>NaN</td>\n",
       "      <td>Oui</td>\n",
       "      <td>41%</td>\n",
       "      <td>61%</td>\n",
       "      <td>39%</td>\n",
       "      <td>315, rue Jackson</td>\n",
       "      <td>Québec</td>\n",
       "      <td>G1N 4C4</td>\n",
       "      <td>418 683-3981</td>\n",
       "      <td>S.O.</td>\n",
       "    </tr>\n",
       "  </tbody>\n",
       "</table>\n",
       "<p>5 rows × 26 columns</p>\n",
       "</div>"
      ],
      "text/plain": [
       "        Région administrative                 Nom d'entreprise  \\\n",
       "0        01 Bas-Saint-Laurent  GFL-Matrec - Matane et Rimouski   \n",
       "1        01 Bas-Saint-Laurent     GFL-Matrec - Rivière-du-Loup   \n",
       "2  02 Saguenay-Lac-Saint-Jean                          Centrem   \n",
       "3       03 Capitale-Nationale                AIM Éco-Centre **   \n",
       "4       03 Capitale-Nationale                 Eddy Fugère inc.   \n",
       "\n",
       "  Type d'installation    Conditions d'acceptation  \\\n",
       "0              #NAME?  Pêle-mêle, Prétrié, Séparé   \n",
       "1              #NAME?  Pêle-mêle, Prétrié, Séparé   \n",
       "2              #NAME?  Pêle-mêle, Prétrié, Séparé   \n",
       "3              #NAME?  Pêle-mêle, Prétrié, Séparé   \n",
       "4              #NAME?  Pêle-mêle, Prétrié, Séparé   \n",
       "\n",
       "  Reconnaissance valide jusqu'au               Tonnage traité Agrégats  \\\n",
       "0                    31 mars 2028   Entre 20 000 et 40 000 t.      Oui   \n",
       "1                    31 mars 2026   Entre 40 000 et 60 000 t.      Oui   \n",
       "2                    31 mars 2028   Entre 20 000 et 40 000 t.      Oui   \n",
       "3                    31 mars 2028  Entre 80 000 et 100 000 t.      Oui   \n",
       "4                    31 mars 2028  Entre 80 000 et 100 000 t.      Oui   \n",
       "\n",
       "  Bardeaux Bois - Recyclage Bois - Valorisation  ... Plastique PVC Verre  \\\n",
       "0      Oui              81%                 19%  ...           NaN   NaN   \n",
       "1      NaN               2%                 98%  ...           NaN   Oui   \n",
       "2      Oui               0%                100%  ...           NaN   NaN   \n",
       "3      Oui              38%                 62%  ...           NaN   Oui   \n",
       "4      Oui              14%                 86%  ...           NaN   Oui   \n",
       "\n",
       "  Taux de recyclage et de valorisation énergétique  \\\n",
       "0                                              40%   \n",
       "1                                              25%   \n",
       "2                                              72%   \n",
       "3                                              39%   \n",
       "4                                              41%   \n",
       "\n",
       "  Taux incluant les matières utilisées dans les lieux d'élimination  \\\n",
       "0                                                83%                  \n",
       "1                                                85%                  \n",
       "2                                                89%                  \n",
       "3                                                84%                  \n",
       "4                                                61%                  \n",
       "\n",
       "  Taux de rejets                   Adresse                 Municipalité   \\\n",
       "0            17%             75, rue Savard                       Matane   \n",
       "1            15%  10, rue Charles-St-Pierre              Rivière-du-Loup   \n",
       "2            11%         1125, rue des Pins                         Alma   \n",
       "3            16%         220, rue Rotterdam  Saint-Augustin-de-Desmaures   \n",
       "4            39%           315, rue Jackson                       Québec   \n",
       "\n",
       "  Code Postal     Téléphone                 Site Web  \n",
       "0      G4W 0H9  418 562-5116      www.gflenv.com/fr/  \n",
       "1      G5R 0N6  418 862-0309      www.gflenv.com/fr/  \n",
       "2      G8B 7V7  418 668-3223  groupedemexcentrem.com  \n",
       "3      G3A 1T4  418 843-6141       aim-ecocentre.com  \n",
       "4      G1N 4C4  418 683-3981                    S.O.  \n",
       "\n",
       "[5 rows x 26 columns]"
      ]
     },
     "metadata": {},
     "output_type": "display_data"
    }
   ],
   "source": [
    "import pandas as pd\n",
    "\n",
    "faits = pd.read_csv('../dataset/Matieres_residuelles_recuperees.csv', sep=';')\n",
    "sites = pd.read_csv('../dataset/liste-centres-tri-crd.csv')\n",
    "\n",
    "# Dimension TypeMatiere\n",
    "dim_type_matiere = pd.DataFrame({'type_matiere': faits['Type de matières récupérées'].unique()})\n",
    "# Dimension Producteur\n",
    "dim_producteur = pd.DataFrame({'producteur': faits['Sources des matières préparées en vue du recyclage'].unique()})\n",
    "\n",
    "# Dimension Temps\n",
    "dim_temps = pd.DataFrame({'periode': faits['PÉRIODE DE RÉFÉRENCE'].unique()})\n",
    "\n",
    "# Dimension SiteValorisation\n",
    "dim_site_valorisation = sites.drop_duplicates().reset_index(drop=True)\n",
    "\n",
    "print(\"Dimension TypeMatiere\")\n",
    "display(dim_type_matiere.head())\n",
    "\n",
    "print(\"\\nDimension Producteur\")\n",
    "display(dim_producteur.head())\n",
    "\n",
    "print(\"\\nDimension Temps\")\n",
    "display(dim_temps.head())\n",
    "\n",
    "print(\"\\nDimension SiteValorisation\")\n",
    "display(dim_site_valorisation.head())\n",
    "\n",
    "\n"
   ]
  },
  {
   "cell_type": "code",
   "execution_count": 2,
   "id": "1dc54c34",
   "metadata": {},
   "outputs": [
    {
     "name": "stdout",
     "output_type": "stream",
     "text": [
      "Dimensions sauvegardées dans des fichiers CSV à la racine du projet.\n"
     ]
    }
   ],
   "source": [
    "# Persistance des dimensions en CSV\n",
    "dim_type_matiere.to_csv('../dataset/generated/dim_type_matiere.csv', index=False)\n",
    "dim_producteur.to_csv('../dataset/generated/dim_producteur.csv', index=False)\n",
    "dim_temps.to_csv('../dataset/generated/dim_temps.csv', index=False)\n",
    "dim_site_valorisation.to_csv('../dataset/generated/dim_site_valorisation.csv', index=False)\n",
    "print(\"Dimensions sauvegardées dans des fichiers CSV à la racine du projet.\")"
   ]
  }
 ],
 "metadata": {
  "kernelspec": {
   "display_name": "venv (3.12.3)",
   "language": "python",
   "name": "python3"
  },
  "language_info": {
   "codemirror_mode": {
    "name": "ipython",
    "version": 3
   },
   "file_extension": ".py",
   "mimetype": "text/x-python",
   "name": "python",
   "nbconvert_exporter": "python",
   "pygments_lexer": "ipython3",
   "version": "3.12.3"
  }
 },
 "nbformat": 4,
 "nbformat_minor": 5
}
