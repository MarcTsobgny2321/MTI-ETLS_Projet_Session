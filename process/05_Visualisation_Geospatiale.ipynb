{
 "cells": [
  {
   "cell_type": "code",
   "execution_count": 5,
   "id": "9594eb5f",
   "metadata": {},
   "outputs": [],
   "source": [
    "# 1. Importer les bibliothèques nécessaires\n",
    "import pandas as pd\n",
    "import json\n",
    "import folium\n",
    "from shapely.geometry import Polygon\n",
    "import os\n",
    "\n",
    "os.makedirs('../generated/sites', exist_ok=True)\n",
    "source_dir = '../generated/'\n",
    "faits = pd.read_csv(f\"{source_dir}faits_matieres.csv\", sep=',', encoding='utf-8')\n",
    "dim_type_matiere = pd.read_csv(f\"{source_dir}dim_type_matiere.csv\", sep=',', encoding='utf-8')\n",
    "dim_producteur = pd.read_csv(f\"{source_dir}dim_producteur.csv\", sep=',', encoding='utf-8')\n",
    "dim_temps = pd.read_csv(f\"{source_dir}dim_temps.csv\", sep=',', encoding='utf-8')\n",
    "dim_site_valorisation = pd.read_csv(f\"{source_dir}dim_site_valorisation.csv\", sep=',', encoding='utf-8')\n",
    "\n",
    "geojson_path = \"../generated/normalized/collecte.json\""
   ]
  },
  {
   "cell_type": "code",
   "execution_count": null,
   "id": "2d3f0c4c",
   "metadata": {},
   "outputs": [
    {
     "ename": "NameError",
     "evalue": "name 'json' is not defined",
     "output_type": "error",
     "traceback": [
      "\u001b[31m---------------------------------------------------------------------------\u001b[39m",
      "\u001b[31mNameError\u001b[39m                                 Traceback (most recent call last)",
      "\u001b[36mCell\u001b[39m\u001b[36m \u001b[39m\u001b[32mIn[3]\u001b[39m\u001b[32m, line 11\u001b[39m\n\u001b[32m      9\u001b[39m geojson_path = \u001b[33m\"\u001b[39m\u001b[33m../generated/normalized/collecte.json\u001b[39m\u001b[33m\"\u001b[39m\n\u001b[32m     10\u001b[39m \u001b[38;5;28;01mwith\u001b[39;00m \u001b[38;5;28mopen\u001b[39m(geojson_path, \u001b[33m\"\u001b[39m\u001b[33mr\u001b[39m\u001b[33m\"\u001b[39m) \u001b[38;5;28;01mas\u001b[39;00m f:\n\u001b[32m---> \u001b[39m\u001b[32m11\u001b[39m     geo_data = \u001b[43mjson\u001b[49m.load(f)\n\u001b[32m     13\u001b[39m features = geo_data[\u001b[33m'\u001b[39m\u001b[33mfeatures\u001b[39m\u001b[33m'\u001b[39m]\n\u001b[32m     14\u001b[39m geo_df = pd.json_normalize(features)\n",
      "\u001b[31mNameError\u001b[39m: name 'json' is not defined"
     ]
    }
   ],
   "source": [
    "# # 2. Charger les données tabulaires et géospatiales\n",
    "\n",
    "# with open(geojson_path, \"r\") as f:\n",
    "#     geo_data = json.load(f)\n",
    "\n",
    "# features = geo_data['features']\n",
    "# geo_df = pd.json_normalize(features)\n",
    "# # Ajouter la colonne PROVINCE='Quebec' si MUNICIPALITE == 'Montreal' dans geo_df\n",
    "# if 'properties.MUNICIPALITE' in geo_df.columns:\n",
    "#     geo_df.loc[geo_df['properties.MUNICIPALITE'] == 'Montreal', 'properties.PROVINCE'] = 'Québec'\n",
    "\n",
    "# geo_df = geo_df[['properties.PROVINCE','properties.MUNICIPALITE','properties.SECTEUR', 'properties.JOUR', 'geometry.type', 'geometry.coordinates']]\n",
    "# geo_df.head()\n",
    "\n",
    "# # 3. Fusionner les données sur le secteur\n",
    "# faits_geo = faits.merge(geo_df, left_on='geo', right_on='properties.PROVINCE', how='left')\n",
    "\n",
    "\n",
    "# # 4. Visualiser la carte interactive\n",
    "# m = folium.Map(location=[45.5017, -73.5673], zoom_start=11)\n",
    "# for _, row in geo_df.iterrows():\n",
    "#     if row['geometry.type'] == 'Polygon':\n",
    "#         folium.Polygon(\n",
    "#             locations=[(lat, lon) for lon, lat in row['geometry.coordinates'][0]],\n",
    "#             color='blue',\n",
    "#             fill=True,\n",
    "#             fill_opacity=0.2,\n",
    "#             popup=row['properties.SECTEUR']\n",
    "#         ).add_to(m)\n",
    "# # Ajouter un marker pour chaque fait (si coordonnées disponibles)\n",
    "# for _, row in faits_geo.iterrows():\n",
    "#     if row['geometry.type'] == 'Polygon' and isinstance(row['geometry.coordinates'], list):\n",
    "#         # print(row['geo'], row['type_matiere'], row['volume_tonnes'])\n",
    "\n",
    "#         # Extraire tous les points du polygone\n",
    "#         coords = row['geometry.coordinates'][0]\n",
    "#         # Créer le polygone et calculer le centroïde\n",
    "#         poly = Polygon([(lon, lat) for lon, lat in coords])\n",
    "#         centroid = poly.centroid\n",
    "#         folium.Marker(\n",
    "#             location=[centroid.y, centroid.x],\n",
    "#             popup=f\"{row['type_matiere']} ({row['volume_tonnes']} t) - {row['properties.MUNICIPALITE']}\",\n",
    "#             icon=folium.Icon(color='green', icon='recycle', prefix='fa')\n",
    "#         ).add_to(m)\n",
    "# m.save(\"../generated/sites/collecte_secteurs.html\")\n",
    "# print(\"Carte interactive générée avec markers : collecte_secteurs.html\")\n"
   ]
  },
  {
   "cell_type": "markdown",
   "id": "1eb0b614",
   "metadata": {},
   "source": [
    "# Visualisations géospatiales croisées avancées\n",
    "Ce qui suit présente plusieurs exemples de visualisations géospatiales croisées :\n",
    "- Carte choroplèthe (volume par secteur)\n",
    "- Heatmap de points (volume ou fréquence)\n",
    "- Cluster de markers (densité)\n",
    "- Animation temporelle (évolution par période)\n",
    "- Flux de matières (producteur → site)\n",
    "- Densité par type de matière\n",
    "- Points chauds (hotspots)"
   ]
  },
  {
   "cell_type": "markdown",
   "id": "f8445eeb",
   "metadata": {},
   "source": [
    "# Centres de tri\n"
   ]
  },
  {
   "cell_type": "code",
   "execution_count": 4,
   "id": "03e056e1",
   "metadata": {},
   "outputs": [
    {
     "name": "stdout",
     "output_type": "stream",
     "text": [
      "Carte interactive des centres de tri générée : centres_tri_map.html\n"
     ]
    }
   ],
   "source": [
    "# 2bis. Afficher les centres de tri sur la carte avec leurs coordonnées GPS\n",
    "\n",
    "import pandas as pd\n",
    "import folium\n",
    "\n",
    "# Charger les centres de tri géocodés\n",
    "centres_path = '../generated/normalized/liste-centres-tri-crd.csv'\n",
    "df_centres = pd.read_csv(centres_path)\n",
    "\n",
    "# Créer la carte centrée sur le Québec\n",
    "m_centres = folium.Map(location=[52, -71], zoom_start=5)\n",
    "\n",
    "# Ajouter le geojson des secteurs (si besoin)\n",
    "geojson_path = \"../generated/normalized/collecte.json\"\n",
    "folium.GeoJson(geojson_path, name=\"Secteurs collecte\").add_to(m_centres)\n",
    "\n",
    "# Ajouter un marker pour chaque centre de tri avec coordonnées GPS valides\n",
    "for _, row in df_centres.iterrows():\n",
    "    try:\n",
    "        lat = float(row['latitude'])\n",
    "        lon = float(row['longitude'])\n",
    "        if pd.notnull(lat) and pd.notnull(lon):\n",
    "            folium.Marker(\n",
    "                location=[lat, lon],\n",
    "                popup=f\"{row.get('Nom', 'Centre de tri')}\\n{row.get('Adresse ', '')}\",\n",
    "                icon=folium.Icon(color='green', icon='recycle', prefix='fa')\n",
    "            ).add_to(m_centres)\n",
    "    except Exception:\n",
    "        continue\n",
    "\n",
    "m_centres.save('../generated/sites/centres_tri_map.html')\n",
    "print(\"Carte interactive des centres de tri générée : centres_tri_map.html\")"
   ]
  },
  {
   "cell_type": "code",
   "execution_count": null,
   "id": "4d5f1b87",
   "metadata": {},
   "outputs": [
    {
     "name": "stdout",
     "output_type": "stream",
     "text": [
      "Carte choroplèthe générée : choropleth_volume_secteur.html\n"
     ]
    },
    {
     "ename": "",
     "evalue": "",
     "output_type": "error",
     "traceback": [
      "\u001b[1;31mThe Kernel crashed while executing code in the current cell or a previous cell. \n",
      "\u001b[1;31mPlease review the code in the cell(s) to identify a possible cause of the failure. \n",
      "\u001b[1;31mClick <a href='https://aka.ms/vscodeJupyterKernelCrash'>here</a> for more info. \n",
      "\u001b[1;31mView Jupyter <a href='command:jupyter.viewOutput'>log</a> for further details."
     ]
    }
   ],
   "source": [
    "# # Carte choroplèthe : volume total par secteur\n",
    "# import folium\n",
    "# import pandas as pd\n",
    "# import json\n",
    "# from branca.colormap import linear\n",
    "\n",
    "# # Agréger le volume par secteur\n",
    "# volume_par_secteur = faits.groupby('geo')['volume_tonnes'].sum().reset_index()\n",
    "\n",
    "# # Charger le geojson\n",
    "# with open(geojson_path, \"r\") as f:\n",
    "#     geo_data = json.load(f)\n",
    "\n",
    "# # Créer la carte\n",
    "# m_choro = folium.Map(location=[45.5017, -73.5673], zoom_start=11)\n",
    "\n",
    "# # Créer le colormap\n",
    "# colormap = linear.Blues_09.scale(volume_par_secteur['volume_tonnes'].min(), volume_par_secteur['volume_tonnes'].max())\n",
    "# colormap.caption = 'Volume total par secteur'\n",
    "# folium.GeoJson(\n",
    "#     geo_data,\n",
    "#     style_function=lambda feature: {\n",
    "#         'fillColor': colormap(volume_par_secteur.set_index('geo').get(feature['properties']['MUNICIPALITE'], 0)),\n",
    "#         'color': 'black',\n",
    "#         'weight': 1,\n",
    "#         'fillOpacity': 0.6\n",
    "#     },\n",
    "#     tooltip=folium.GeoJsonTooltip(fields=['MUNICIPALITE'])\n",
    "# ).add_to(m_choro)\n",
    "# colormap.add_to(m_choro)\n",
    "# m_choro.save('../generated/sites/choropleth_volume_secteur.html')\n",
    "# print('Carte choroplèthe générée : choropleth_volume_secteur.html')"
   ]
  },
  {
   "cell_type": "code",
   "execution_count": null,
   "id": "455de48d",
   "metadata": {},
   "outputs": [
    {
     "ename": "NameError",
     "evalue": "name 'faits_geo' is not defined",
     "output_type": "error",
     "traceback": [
      "\u001b[31m---------------------------------------------------------------------------\u001b[39m",
      "\u001b[31mNameError\u001b[39m                                 Traceback (most recent call last)",
      "\u001b[36mCell\u001b[39m\u001b[36m \u001b[39m\u001b[32mIn[6]\u001b[39m\u001b[32m, line 7\u001b[39m\n\u001b[32m      5\u001b[39m \u001b[38;5;66;03m# Préparer les points (centroïdes des polygones avec volume)\u001b[39;00m\n\u001b[32m      6\u001b[39m points = []\n\u001b[32m----> \u001b[39m\u001b[32m7\u001b[39m \u001b[38;5;28;01mfor\u001b[39;00m _, row \u001b[38;5;129;01min\u001b[39;00m \u001b[43mfaits_geo\u001b[49m.iterrows():\n\u001b[32m      8\u001b[39m     \u001b[38;5;28;01mif\u001b[39;00m row[\u001b[33m'\u001b[39m\u001b[33mgeometry.type\u001b[39m\u001b[33m'\u001b[39m] == \u001b[33m'\u001b[39m\u001b[33mPolygon\u001b[39m\u001b[33m'\u001b[39m \u001b[38;5;129;01mand\u001b[39;00m \u001b[38;5;28misinstance\u001b[39m(row[\u001b[33m'\u001b[39m\u001b[33mgeometry.coordinates\u001b[39m\u001b[33m'\u001b[39m], \u001b[38;5;28mlist\u001b[39m):\n\u001b[32m      9\u001b[39m         coords = row[\u001b[33m'\u001b[39m\u001b[33mgeometry.coordinates\u001b[39m\u001b[33m'\u001b[39m][\u001b[32m0\u001b[39m]\n",
      "\u001b[31mNameError\u001b[39m: name 'faits_geo' is not defined"
     ]
    }
   ],
   "source": [
    "# # Heatmap de points : volume ou fréquence de collecte\n",
    "# from folium.plugins import HeatMap\n",
    "# import numpy as np\n",
    "\n",
    "# # Préparer les points (centroïdes des polygones avec volume)\n",
    "# points = []\n",
    "# for _, row in faits_geo.iterrows():\n",
    "#     if row['geometry.type'] == 'Polygon' and isinstance(row['geometry.coordinates'], list):\n",
    "#         coords = row['geometry.coordinates'][0]\n",
    "#         poly = Polygon([(lon, lat) for lon, lat in coords])\n",
    "#         centroid = poly.centroid\n",
    "#         pt = [centroid.y, centroid.x, row['volume_tonnes']]\n",
    "#         # Vérifier qu'il n'y a pas de NaN\n",
    "#         if not any(np.isnan(pt)):\n",
    "#             points.append(pt)\n",
    "\n",
    "# # Créer la carte heatmap\n",
    "# m_heat = folium.Map(location=[45.5017, -73.5673], zoom_start=11)\n",
    "# HeatMap(points, radius=15, blur=10, min_opacity=0.4, max_zoom=1).add_to(m_heat)\n",
    "# m_heat.save('../generated/sites/heatmap_volume.html')\n",
    "# print('Heatmap générée : heatmap_volume.html')"
   ]
  },
  {
   "cell_type": "code",
   "execution_count": null,
   "id": "ae1553e9",
   "metadata": {},
   "outputs": [
    {
     "name": "stdout",
     "output_type": "stream",
     "text": [
      "Cluster de markers généré : cluster_markers.html\n"
     ]
    }
   ],
   "source": [
    "# # Cluster de markers : densité de faits\n",
    "# from folium.plugins import MarkerCluster\n",
    "\n",
    "# m_cluster = folium.Map(location=[45.5017, -73.5673], zoom_start=11)\n",
    "# marker_cluster = MarkerCluster().add_to(m_cluster)\n",
    "\n",
    "# for _, row in faits_geo.iterrows():\n",
    "#     if row['geometry.type'] == 'Polygon' and isinstance(row['geometry.coordinates'], list):\n",
    "#         coords = row['geometry.coordinates'][0]\n",
    "#         poly = Polygon([(lon, lat) for lon, lat in coords])\n",
    "#         centroid = poly.centroid\n",
    "#         folium.Marker(\n",
    "#             location=[centroid.y, centroid.x],\n",
    "#             popup=f\"{row['type_matiere']} ({row['volume_tonnes']} t) - {row['geo']}\",\n",
    "#             icon=folium.Icon(color='green', icon='info-sign')\n",
    "#         ).add_to(marker_cluster)\n",
    "\n",
    "# m_cluster.save('../generated/sites/cluster_markers.html')\n",
    "# print('Cluster de markers généré : cluster_markers.html')"
   ]
  },
  {
   "cell_type": "code",
   "execution_count": null,
   "id": "b9181f24",
   "metadata": {},
   "outputs": [
    {
     "name": "stdout",
     "output_type": "stream",
     "text": [
      "Animation temporelle générée : animation_temporelle.html\n"
     ]
    }
   ],
   "source": [
    "# # Animation temporelle : évolution du volume par période\n",
    "# from folium.plugins import TimestampedGeoJson\n",
    "\n",
    "# # Préparer les features pour chaque période\n",
    "# features = []\n",
    "# for _, row in faits_geo.iterrows():\n",
    "#     if row['geometry.type'] == 'Polygon' and isinstance(row['geometry.coordinates'], list):\n",
    "#         coords = row['geometry.coordinates'][0]\n",
    "#         poly = Polygon([(lon, lat) for lon, lat in coords])\n",
    "#         centroid = poly.centroid\n",
    "#         feature = {\n",
    "#             'type': 'Feature',\n",
    "#             'geometry': {\n",
    "#                 'type': 'Point',\n",
    "#                 'coordinates': [centroid.x, centroid.y]\n",
    "#             },\n",
    "#             'properties': {\n",
    "#                 'time': row['periode'],\n",
    "#                 'popup': f\"{row['type_matiere']} ({row['volume_tonnes']} t) - {row['geo']}\"\n",
    "#             }\n",
    "#         }\n",
    "#         features.append(feature)\n",
    "\n",
    "# geojson_dict = {\n",
    "#     'type': 'FeatureCollection',\n",
    "#     'features': features\n",
    "# }\n",
    "\n",
    "# m_time = folium.Map(location=[45.5017, -73.5673], zoom_start=11)\n",
    "# TimestampedGeoJson(\n",
    "#     geojson_dict,\n",
    "#     period='P1Y',\n",
    "#     add_last_point=True,\n",
    "#     auto_play=True,\n",
    "#     loop=False,\n",
    "#     max_speed=1,\n",
    "#     loop_button=True,\n",
    "#     date_options='YYYY',\n",
    "#     time_slider_drag_update=True\n",
    "# ).add_to(m_time)\n",
    "# m_time.save('../generated/sites/animation_temporelle.html')\n",
    "# print('Animation temporelle générée : animation_temporelle.html')"
   ]
  },
  {
   "cell_type": "code",
   "execution_count": null,
   "id": "eec53e33",
   "metadata": {},
   "outputs": [
    {
     "name": "stdout",
     "output_type": "stream",
     "text": [
      "Carte des flux de matières générée : flux_matieres.html\n"
     ]
    }
   ],
   "source": [
    "# # Flux de matières : lignes entre producteurs et sites de valorisation\n",
    "# m_flux = folium.Map(location=[45.5017, -73.5673], zoom_start=11)\n",
    "\n",
    "# for _, row in faits.iterrows():\n",
    "#     # Exemple : coordonnées fictives pour producteurs et sites (à remplacer par les vraies coordonnées si disponibles)\n",
    "#     prod_coords = [row.get('lat_producteur', 45.5), row.get('lon_producteur', -73.56)]\n",
    "#     site_coords = [row.get('lat_site', 45.52), row.get('lon_site', -73.58)]\n",
    "#     folium.Marker(location=prod_coords, popup=f\"Producteur: {row.get('producteur', 'Inconnu')}\", icon=folium.Icon(color='blue')).add_to(m_flux)\n",
    "#     folium.Marker(location=site_coords, popup=f\"Site: {row.get('site_valorisation', 'Inconnu')}\", icon=folium.Icon(color='orange')).add_to(m_flux)\n",
    "#     folium.PolyLine([prod_coords, site_coords], color='purple', weight=3, opacity=0.7).add_to(m_flux)\n",
    "\n",
    "# m_flux.save('../generated/sites/flux_matieres.html')\n",
    "# print('Carte des flux de matières générée : flux_matieres.html')"
   ]
  },
  {
   "cell_type": "code",
   "execution_count": null,
   "id": "cfc8300c",
   "metadata": {},
   "outputs": [
    {
     "name": "stdout",
     "output_type": "stream",
     "text": [
      "Carte densité par type de matière générée : densite_type_matiere.html\n"
     ]
    }
   ],
   "source": [
    "# # Densité par type de matière : markers colorés par type\n",
    "# m_density = folium.Map(location=[45.5017, -73.5673], zoom_start=11)\n",
    "\n",
    "# type_colors = {\n",
    "#     'Plastique': 'red',\n",
    "#     'Métal': 'blue',\n",
    "#     'Papier': 'green',\n",
    "#     'Verre': 'purple',\n",
    "#     'Organique': 'orange',\n",
    "#     # Ajouter d'autres types si nécessaire\n",
    "# }\n",
    "\n",
    "# for _, row in faits_geo.iterrows():\n",
    "#     if row['geometry.type'] == 'Polygon' and isinstance(row['geometry.coordinates'], list):\n",
    "#         coords = row['geometry.coordinates'][0]\n",
    "#         poly = Polygon([(lon, lat) for lon, lat in coords])\n",
    "#         centroid = poly.centroid\n",
    "#         color = type_colors.get(row['type_matiere'], 'gray')\n",
    "#         folium.Marker(\n",
    "#             location=[centroid.y, centroid.x],\n",
    "#             popup=f\"{row['type_matiere']} ({row['volume_tonnes']} t) - {row['geo']}\",\n",
    "#             icon=folium.Icon(color=color, icon='info-sign')\n",
    "#         ).add_to(m_density)\n",
    "\n",
    "# m_density.save('../generated/sites/densite_type_matiere.html')\n",
    "# print('Carte densité par type de matière générée : densite_type_matiere.html')"
   ]
  },
  {
   "cell_type": "code",
   "execution_count": null,
   "id": "30e87844",
   "metadata": {},
   "outputs": [
    {
     "name": "stdout",
     "output_type": "stream",
     "text": [
      "Carte des hotspots générée : hotspots_volume.html\n"
     ]
    }
   ],
   "source": [
    "# # Points chauds (hotspots) par volume\n",
    "# import numpy as np\n",
    "\n",
    "# # Préparer les points avec volume\n",
    "# hot_points = []\n",
    "# for _, row in faits_geo.iterrows():\n",
    "#     if row['geometry.type'] == 'Polygon' and isinstance(row['geometry.coordinates'], list):\n",
    "#         coords = row['geometry.coordinates'][0]\n",
    "#         poly = Polygon([(lon, lat) for lon, lat in coords])\n",
    "#         centroid = poly.centroid\n",
    "#         hot_points.append([centroid.y, centroid.x, row['volume_tonnes']])\n",
    "\n",
    "# # Définir un seuil pour les hotspots (exemple : top 10 %)\n",
    "# volumes = np.array([p[2] for p in hot_points])\n",
    "# seuil = np.percentile(volumes, 90)\n",
    "# hotspots = [p for p in hot_points if p[2] >= seuil]\n",
    "\n",
    "# m_hotspot = folium.Map(location=[45.5017, -73.5673], zoom_start=11)\n",
    "# for pt in hotspots:\n",
    "#     folium.CircleMarker(\n",
    "#         location=[pt[0], pt[1]],\n",
    "#         radius=10,\n",
    "#         color='red',\n",
    "#         fill=True,\n",
    "#         fill_opacity=0.7,\n",
    "#         popup=f'Hotspot: {pt[2]} t'\n",
    "#     ).add_to(m_hotspot)\n",
    "\n",
    "# m_hotspot.save('../generated/sites/hotspots_volume.html')\n",
    "# print('Carte des hotspots générée : hotspots_volume.html')"
   ]
  }
 ],
 "metadata": {
  "kernelspec": {
   "display_name": "venv (3.12.3)",
   "language": "python",
   "name": "python3"
  },
  "language_info": {
   "codemirror_mode": {
    "name": "ipython",
    "version": 3
   },
   "file_extension": ".py",
   "mimetype": "text/x-python",
   "name": "python",
   "nbconvert_exporter": "python",
   "pygments_lexer": "ipython3",
   "version": "3.12.3"
  }
 },
 "nbformat": 4,
 "nbformat_minor": 5
}
