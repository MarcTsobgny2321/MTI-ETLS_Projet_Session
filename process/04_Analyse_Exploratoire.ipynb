{
 "cells": [
  {
   "cell_type": "markdown",
   "id": "dd41c55e",
   "metadata": {},
   "source": [
    "# Analyse exploratoire\n",
    "\n",
    "Ce notebook permet d'explorer les données de faits et de dimensions pour en vérifier la qualité et en extraire des statistiques descriptives."
   ]
  },
  {
   "cell_type": "code",
   "execution_count": 3,
   "id": "885f1df5",
   "metadata": {},
   "outputs": [
    {
     "data": {
      "application/vnd.microsoft.datawrangler.viewer.v0+json": {
       "columns": [
        {
         "name": "producteur",
         "rawType": "object",
         "type": "string"
        },
        {
         "name": "count",
         "rawType": "int64",
         "type": "integer"
        }
       ],
       "ref": "3bf653c2-7e4b-418d-bce4-a07fc224db6c",
       "rows": [
        [
         "Toutes les sources des matières récupérées",
         "54"
        ],
        [
         "Sources des matières résidentielles récupérées",
         "54"
        ],
        [
         "Sources des matières non résidentielles récupérées",
         "54"
        ]
       ],
       "shape": {
        "columns": 1,
        "rows": 3
       }
      },
      "text/plain": [
       "producteur\n",
       "Toutes les sources des matières récupérées            54\n",
       "Sources des matières résidentielles récupérées        54\n",
       "Sources des matières non résidentielles récupérées    54\n",
       "Name: count, dtype: int64"
      ]
     },
     "execution_count": 3,
     "metadata": {},
     "output_type": "execute_result"
    }
   ],
   "source": [
    "import pandas as pd\n",
    "source_dir = '../generated/'\n",
    "faits_matieres = pd.read_csv(f\"{source_dir}faits_matieres.csv\", sep=',', encoding='utf-8')\n",
    "\n",
    "# Statistiques descriptives\n",
    "faits_matieres.describe()\n",
    "\n",
    "# Répartition par type de matière\n",
    "faits_matieres['type_matiere'].value_counts()\n",
    "\n",
    "# Répartition par producteur\n",
    "faits_matieres['producteur'].value_counts()"
   ]
  },
  {
   "cell_type": "code",
   "execution_count": 9,
   "id": "fa8b8c59",
   "metadata": {},
   "outputs": [
    {
     "name": "stdout",
     "output_type": "stream",
     "text": [
      "Valeurs manquantes par colonne :\n",
      "periode            0\n",
      "geo                0\n",
      "type_matiere       0\n",
      "producteur         0\n",
      "volume_tonnes    712\n",
      "dtype: int64\n",
      "\n",
      "Statistiques sur 'volume_tonnes' :\n",
      "count    1.232000e+03\n",
      "mean     1.552159e+05\n",
      "std      6.222885e+05\n",
      "min      0.000000e+00\n",
      "25%      1.482250e+03\n",
      "50%      1.412150e+04\n",
      "75%      6.547925e+04\n",
      "max      9.903027e+06\n",
      "Name: volume_tonnes, dtype: float64\n",
      "\n",
      "Répartition par année :\n",
      "periode\n",
      "2018    648\n",
      "2020    648\n",
      "2022    648\n",
      "Name: count, dtype: int64\n",
      "\n",
      "Top 5 des types de matières :\n",
      "type_matiere\n",
      "Toutes les matières            108\n",
      "Toutes les fibres de papier    108\n",
      "Verre                          108\n",
      "Métaux ferreux                 108\n",
      "Cuivre et aluminium            108\n",
      "Name: count, dtype: int64\n",
      "\n",
      "Top 5 des producteurs :\n",
      "producteur\n",
      "Toutes les sources des matières récupérées            648\n",
      "Sources des matières résidentielles récupérées        648\n",
      "Sources des matières non résidentielles récupérées    648\n",
      "Name: count, dtype: int64\n",
      "\n",
      "Répartition géographique :\n",
      "geo\n",
      "Canada                     162\n",
      "Terre-Neuve-et-Labrador    162\n",
      "Île-du-Prince-Édouard      162\n",
      "Nouvelle-Écosse            162\n",
      "Nouveau-Brunswick          162\n",
      "Name: count, dtype: int64\n"
     ]
    }
   ],
   "source": [
    "# Nombre de valeurs manquantes par colonne\n",
    "print(\"Valeurs manquantes par colonne :\")\n",
    "print(faits_matieres.isnull().sum())\n",
    "\n",
    "# Statistiques sur la colonne 'volume_tonnes'\n",
    "print(\"\\nStatistiques sur 'volume_tonnes' :\")\n",
    "print(faits_matieres['volume_tonnes'].describe())\n",
    "\n",
    "# Répartition des données par année ('periode')\n",
    "print(\"\\nRépartition par année :\")\n",
    "print(faits_matieres['periode'].value_counts().sort_index())\n",
    "\n",
    "# Top 5 des types de matières les plus fréquents\n",
    "print(\"\\nTop 5 des types de matières :\")\n",
    "print(faits_matieres['type_matiere'].value_counts().head())\n",
    "\n",
    "# Top 5 des producteurs les plus fréquents\n",
    "print(\"\\nTop 5 des producteurs :\")\n",
    "print(faits_matieres['producteur'].value_counts().head())\n",
    "\n",
    "# Répartition géographique\n",
    "print(\"\\nRépartition géographique :\")\n",
    "print(faits_matieres['geo'].value_counts().head())"
   ]
  }
 ],
 "metadata": {
  "kernelspec": {
   "display_name": "venv (3.12.3)",
   "language": "python",
   "name": "python3"
  },
  "language_info": {
   "codemirror_mode": {
    "name": "ipython",
    "version": 3
   },
   "file_extension": ".py",
   "mimetype": "text/x-python",
   "name": "python",
   "nbconvert_exporter": "python",
   "pygments_lexer": "ipython3",
   "version": "3.12.3"
  }
 },
 "nbformat": 4,
 "nbformat_minor": 5
}
